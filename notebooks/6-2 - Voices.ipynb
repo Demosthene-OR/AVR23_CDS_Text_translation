{
 "cells": [
  {
   "cell_type": "markdown",
   "id": "04bbdf76-113a-4165-870f-bf9aae527d24",
   "metadata": {},
   "source": [
    "<h1><bold>\n",
    "<hr style=\"border-width:2px;border-color:#1664c8\">\n",
    "Partie <b>6</b><br>\n",
    "<center>Utilisation simple des modèles Text 2 Speech<br>\n",
    "<div style=\"text-align: right;\">Version 1</div><br>\n",
    "<hr style=\"border-width:2px;border-color:#1664c8\">\n",
    "</h1></bold>"
   ]
  },
  {
   "cell_type": "code",
   "execution_count": 16,
   "id": "28a0488a-2fea-4a61-829f-9f1d21f643ed",
   "metadata": {},
   "outputs": [],
   "source": [
    "import pyttsx3\n",
    "\n",
    "# Initialisation du moteur TTS\n",
    "engine = pyttsx3.init()\n",
    "\n",
    "# Liste des voix disponibles\n",
    "voices = engine.getProperty('voices')\n",
    "\n",
    "# Sélection d'une voix spécifique (index de la voix dans la liste)\n",
    "engine.setProperty('voice', voices[0].id)  # Remplacez 1 par l'index de la voix souhaitée\n",
    "\n",
    "# Synthèse vocale\n",
    "engine.say('Bonjour, comment ça va ?')\n",
    "# engine.save_to_file('output.mp3')\n",
    "\n",
    "# Lecture du texte\n",
    "engine.runAndWait()\n"
   ]
  },
  {
   "cell_type": "code",
   "execution_count": 17,
   "id": "b7725090-2428-4ef1-b3fa-ba611e509f58",
   "metadata": {},
   "outputs": [],
   "source": [
    "engine = pyttsx3.init()\n",
    "voices = engine.getProperty('voices')\n",
    "for voice in voices:\n",
    "   engine.setProperty('voice', voice.id)\n",
    "   engine.say('The quick brown fox jumped over the lazy dog.')\n",
    "engine.runAndWait()"
   ]
  },
  {
   "cell_type": "code",
   "execution_count": 8,
   "id": "5898729f-9bcb-44e9-9a11-bbfdb44a53ba",
   "metadata": {},
   "outputs": [],
   "source": [
    "import gtts\n",
    "from gtts import gTTS\n",
    "# help(gTTS)\n",
    "# Exemple avec la langue en français et le sexe féminin (f)\n",
    "tts = gTTS(text='Bonjour, comment ça va ?', lang='fr', tld='ca')\n",
    "tts.save('output.mp3')"
   ]
  }
 ],
 "metadata": {
  "kernelspec": {
   "display_name": "Python 3 (ipykernel)",
   "language": "python",
   "name": "python3"
  },
  "language_info": {
   "codemirror_mode": {
    "name": "ipython",
    "version": 3
   },
   "file_extension": ".py",
   "mimetype": "text/x-python",
   "name": "python",
   "nbconvert_exporter": "python",
   "pygments_lexer": "ipython3",
   "version": "3.9.16"
  }
 },
 "nbformat": 4,
 "nbformat_minor": 5
}
