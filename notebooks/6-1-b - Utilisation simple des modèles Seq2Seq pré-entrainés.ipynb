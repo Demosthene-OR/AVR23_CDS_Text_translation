{
 "cells": [
  {
   "cell_type": "markdown",
   "metadata": {},
   "source": [
    "<h1><bold>\n",
    "<hr style=\"border-width:2px;border-color:#1664c8\">\n",
    "Partie <b>6</b><br>\n",
    "<center>Utilisation simple des modèle Seq2Seq pré-entrainés<br>\n",
    "sur <b>\"small_vocab_en\"</b> et <b>\"small_vocab_fr\"</b><br></center> \n",
    "<div style=\"text-align: right;\">Version 2</div><br>\n",
    "<hr style=\"border-width:2px;border-color:#1664c8\">\n",
    "</h1></bold>"
   ]
  },
  {
   "cell_type": "markdown",
   "metadata": {
    "colab_type": "text"
   },
   "source": [
    "### **1. Préparation des données**\n",
    "> notamment la vectorisation"
   ]
  },
  {
   "cell_type": "code",
   "execution_count": 1,
   "metadata": {
    "tags": []
   },
   "outputs": [],
   "source": [
    "import os\n",
    "\n",
    "def load_data(path):\n",
    "\n",
    "    # Nombre maximum de lignes à renvoyer\n",
    "    max_lines = 140000\n",
    "    \n",
    "    input_file = os.path.join(path)\n",
    "    with open(input_file, \"r\",  encoding=\"utf-8\") as f:\n",
    "        data = f.read()\n",
    "   \n",
    "    data = data.split('\\n')\n",
    "    return data[:min(len(data),max_lines)]"
   ]
  },
  {
   "cell_type": "code",
   "execution_count": 2,
   "metadata": {
    "tags": []
   },
   "outputs": [],
   "source": [
    "# Indication de calculer le score Bleu\n",
    "bleu_score_to_do = True\n",
    "\n",
    "# Chargement des textes dans les 2 langues (max lignes = max_lines)\n",
    "src = 'fr'\n",
    "tgt = 'en'\n",
    "txt_tgt = load_data('../data/small_vocab_'+tgt)\n",
    "txt_src = load_data('../data/small_vocab_'+src)\n",
    "\n",
    "text_pairs = []\n",
    "for line in range(len(txt_src)):\n",
    "    text_pairs.append((txt_src[line], \"[start] \" + txt_tgt[line] + \" [end]\" ))\n",
    "    "
   ]
  },
  {
   "cell_type": "code",
   "execution_count": 3,
   "metadata": {
    "colab_type": "code",
    "tags": []
   },
   "outputs": [
    {
     "name": "stdout",
     "output_type": "stream",
     "text": [
      "('les états-unis est jamais pluvieux en octobre , mais il est parfois froid en juin .', '[start] the united states is never rainy during october , but it is sometimes cold in june . [end]')\n",
      "(\"californie est généralement doux à l'automne , mais il est jamais froid en septembre .\", '[start] california is usually mild during fall , but it is never chilly in september . [end]')\n"
     ]
    }
   ],
   "source": [
    "import random\n",
    "print(random.choice(text_pairs))\n",
    "print(random.choice(text_pairs))"
   ]
  },
  {
   "cell_type": "markdown",
   "metadata": {
    "colab_type": "text"
   },
   "source": [
    "**Vectorisation des paires de texte anglaises et française avec le vocabulaire préalablement sauvé**  "
   ]
  },
  {
   "cell_type": "code",
   "execution_count": 4,
   "metadata": {
    "colab_type": "code",
    "tags": []
   },
   "outputs": [],
   "source": [
    "import tensorflow as tf\n",
    "import string\n",
    "import re\n",
    "from tensorflow import keras\n",
    "from tensorflow.keras import layers\n",
    "\n",
    "strip_chars = string.punctuation + \"¿\"\n",
    "strip_chars = strip_chars.replace(\"[\", \"\")\n",
    "strip_chars = strip_chars.replace(\"]\", \"\")\n",
    "\n",
    "def custom_standardization(input_string):\n",
    "    lowercase = tf.strings.lower(input_string)\n",
    "    lowercase=tf.strings.regex_replace(lowercase, \"[à]\", \"a\")\n",
    "    return tf.strings.regex_replace(\n",
    "        lowercase, f\"[{re.escape(strip_chars)}]\", \"\")\n",
    "\n",
    "def load_vocab(file_path):\n",
    "    with open(file_path, \"r\",  encoding=\"utf-8\") as file:\n",
    "        return file.read().split('\\n')[:-1]\n",
    "\n",
    "vocab_size = 15000\n",
    "sequence_length = 30\n",
    "\n",
    "source_vectorization = layers.TextVectorization(\n",
    "    max_tokens=vocab_size,\n",
    "    output_mode=\"int\",\n",
    "    output_sequence_length=sequence_length,\n",
    "    standardize=custom_standardization,\n",
    "    vocabulary = load_vocab(\"../data/vocab_\"+src+\".txt\"),\n",
    ")\n",
    "\n",
    "target_vectorization = layers.TextVectorization(\n",
    "    max_tokens=vocab_size,\n",
    "    output_mode=\"int\",\n",
    "    output_sequence_length=sequence_length + 1,\n",
    "    standardize=custom_standardization,\n",
    "    vocabulary = load_vocab(\"../data/vocab_\"+tgt+\".txt\"),\n",
    ")\n",
    "\n",
    "source_texts = [pair[0] for pair in text_pairs]\n",
    "target_texts = [pair[1] for pair in text_pairs]\n"
   ]
  },
  {
   "cell_type": "markdown",
   "metadata": {},
   "source": [
    "**Definition d'ensemble de phrases à traduite**"
   ]
  },
  {
   "cell_type": "code",
   "execution_count": 5,
   "metadata": {
    "tags": []
   },
   "outputs": [],
   "source": [
    "input_sentence=[]\n",
    "for i in range(20):\n",
    "    input_sentence.append(random.choice(source_texts))"
   ]
  },
  {
   "cell_type": "markdown",
   "metadata": {
    "colab_type": "text"
   },
   "source": [
    "### **2. Utilisation du traducteur Seq2Seq avec 2 RNN (GRU)**"
   ]
  },
  {
   "cell_type": "markdown",
   "metadata": {
    "colab_type": "text"
   },
   "source": [
    "**Chargement du modèle pré-entrainél**"
   ]
  },
  {
   "cell_type": "code",
   "execution_count": 6,
   "metadata": {
    "tags": []
   },
   "outputs": [],
   "source": [
    "# seq2seq_rnn = keras.models.load_model(\"../data/seq2seq_rnn-model-\"+src+\"-\"+tgt+\".h5\")\n",
    "\n",
    "from filesplit.merge import Merge\n",
    "merge = Merge( \"../data/rnn_\"+src+\"-\"+tgt+\"_split\",  \"../data\", \"seq2seq_rnn-model-\"+src+\"-\"+tgt+\".h5\").merge(cleanup=False)\n",
    "seq2seq_rnn = keras.models.load_model(\"../data/seq2seq_rnn-model-\"+src+\"-\"+tgt+\".h5\")\n"
   ]
  },
  {
   "cell_type": "code",
   "execution_count": 7,
   "metadata": {
    "tags": []
   },
   "outputs": [
    {
     "data": {
      "image/png": "[encoded data removed]",
      "text/plain": [
       "<IPython.core.display.Image object>"
      ]
     },
     "execution_count": 7,
     "metadata": {},
     "output_type": "execute_result"
    }
   ],
   "source": [
    "# seq2seq_rnn.summary()\n",
    "from keras.utils.vis_utils import plot_model\n",
    "plot_model(seq2seq_rnn, show_shapes=True, show_layer_names=True, show_layer_activations=True,rankdir='TB')  # to_file='../images/seq2seq_model_plot.png'\n"
   ]
  },
  {
   "cell_type": "markdown",
   "metadata": {
    "colab_type": "text"
   },
   "source": [
    "**Traduction des phrases à traduire préalablement sélectionnées**"
   ]
  },
  {
   "cell_type": "code",
   "execution_count": 8,
   "metadata": {
    "colab_type": "code",
    "tags": []
   },
   "outputs": [
    {
     "name": "stdout",
     "output_type": "stream",
     "text": [
      "-\n",
      "FR   les états-unis est parfois clémentes en septembre , et il est généralement froid en février .\n",
      "EN-> the united states is sometimes mild during september and it is usually chilly in february\n",
      "-\n",
      "FR   paris est calme en juillet , et il est relaxant parfois au printemps .\n",
      "EN-> paris is quiet during july and it is sometimes relaxing in spring\n",
      "-\n",
      "FR   chine est merveilleux en octobre , et il est jamais de neige en mars .\n",
      "EN-> china is wonderful during october and it is never snowy in march\n",
      "-\n",
      "FR   ils sont allés à la californie en mai dernier .\n",
      "EN-> they went to california last may\n",
      "-\n",
      "FR   californie est habituellement chaud en juillet , mais il est froid à l' automne .\n",
      "EN-> california is usually hot during july but it is chilly in autumn\n",
      "-\n",
      "FR   californie est sec au cours de l' automne , mais il est parfois pluvieux en hiver .\n",
      "EN-> california is dry during fall but it is sometimes rainy in winter\n",
      "-\n",
      "FR   california est humide en juin , et il gèle jamais en juillet .\n",
      "EN-> california is wet during june and it is never freezing in july\n",
      "-\n",
      "FR   paris est habituellement chaud en juin , et il gèle en mars .\n",
      "EN-> paris is usually warm during june and it is freezing in march\n",
      "-\n",
      "FR   l' inde est chaud en juillet , et il est jamais beau en avril .\n",
      "EN-> india is hot during july and it is never beautiful in april\n",
      "-\n",
      "FR   les états-unis est généralement chaud au mois de mai , et il est jamais pluvieux en août .\n",
      "EN-> the united states is usually hot during may and it is never rainy in august\n",
      "-\n",
      "FR   elle n'aimait pas une nouvelle voiture jaune .\n",
      "EN-> she disliked a new yellow automobile\n",
      "-\n",
      "FR   californie est chaud pendant l' hiver , mais jamais à sec en septembre .\n",
      "EN-> california is hot during winter but it is never dry in september\n",
      "-\n",
      "FR   l' inde est belle à l'automne , et il est généralement enneigée en décembre .\n",
      "EN-> india is pleasant during fall and it is usually snowy in december\n",
      "-\n",
      "FR   paris est beau à l'automne , et il est humide au printemps .\n",
      "EN-> paris is beautiful during fall and it is wet in spring\n",
      "-\n",
      "FR   californie est généralement froid en février , mais il est jamais chaud en août .\n",
      "EN-> california is usually chilly during february but it is never hot in august\n",
      "-\n",
      "FR   californie est parfois agréable au mois d' août , et il est généralement pluvieux en juillet .\n",
      "EN-> california is sometimes pleasant during august and it is usually rainy in july\n",
      "-\n",
      "FR   les états-unis est jamais tranquille en février , et il est jamais relaxant au printemps .\n",
      "EN-> the united states is never quiet during february and it is never relaxing in spring\n",
      "-\n",
      "FR   californie est parfois chaud au mois de février , mais il est généralement froid à l' automne .\n",
      "EN-> california is sometimes hot during february but it is usually chilly in autumn\n",
      "-\n",
      "FR   new jersey est jamais merveilleux au printemps , mais il est généralement humide en juillet .\n",
      "EN-> new jersey is never wonderful during spring but it is usually wet in july\n",
      "-\n",
      "FR   chine est jamais calme à l'automne , et il est parfois sec au printemps .\n",
      "EN-> china is never quiet during fall and it is sometimes dry in spring\n"
     ]
    }
   ],
   "source": [
    "import numpy as np\n",
    "\n",
    "def decode_sequence_rnn(input_sentence):\n",
    "    tgt_vocab = target_vectorization.get_vocabulary()\n",
    "    tgt_index_lookup = dict(zip(range(len(tgt_vocab)), tgt_vocab))\n",
    "    max_decoded_sentence_length = 50\n",
    "    tokenized_input_sentence = source_vectorization([input_sentence])\n",
    "    decoded_sentence = \"[start]\"\n",
    "    for i in range(max_decoded_sentence_length):\n",
    "        tokenized_target_sentence = target_vectorization([decoded_sentence])\n",
    "        next_token_predictions = seq2seq_rnn.predict(\n",
    "            [tokenized_input_sentence, tokenized_target_sentence], verbose=0)\n",
    "        sampled_token_index = np.argmax(next_token_predictions[0, i, :])\n",
    "        sampled_token = tgt_index_lookup[sampled_token_index]\n",
    "        decoded_sentence += \" \" + sampled_token\n",
    "        if sampled_token == \"[end]\":\n",
    "            break\n",
    "    return decoded_sentence[8:-6]\n",
    "\n",
    "for i in range(20):\n",
    "    print(\"-\")\n",
    "    print(src.upper()+\"  \",input_sentence[i])\n",
    "    print(tgt.upper()+\"->\",decode_sequence_rnn(input_sentence[i]))"
   ]
  },
  {
   "cell_type": "markdown",
   "metadata": {
    "colab_type": "text"
   },
   "source": [
    "<br></br>\n",
    "**A votre tour d'éssayer**  \n",
    "Saisissez un phrase.."
   ]
  },
  {
   "cell_type": "code",
   "execution_count": 9,
   "metadata": {
    "tags": []
   },
   "outputs": [
    {
     "name": "stdout",
     "output_type": "stream",
     "text": [
      "EN-> paris is rainy during winter but it is never wonderful in winter\n",
      "EN-> new jersey is sometimes quiet during fall and it is snowy in april\n"
     ]
    }
   ],
   "source": [
    "if src=='fr':\n",
    "    your_sentence1 = \"paris est pluvieux pendant l'été, mais la france n'est jamais magnifique en hiver\" \n",
    "    your_sentence2 = \"new jersey est parfois calme pendant l' automne , et il est neigeux en avril .\" \n",
    "else:\n",
    "    your_sentence1 = \"paris is rainy during summer , and france is never wonderful in winter\"\n",
    "    your_sentence2 = \"new jersey is sometimes quiet during autumn , and it is snowy in april .\"\n",
    "    \n",
    "print(tgt.upper()+\"->\",decode_sequence_rnn(your_sentence1))\n",
    "print(tgt.upper()+\"->\",decode_sequence_rnn(your_sentence2))"
   ]
  },
  {
   "cell_type": "markdown",
   "metadata": {
    "colab_type": "text"
   },
   "source": [
    "### **3. Utilisation du traducteur Seq2Seq Transformer**"
   ]
  },
  {
   "cell_type": "markdown",
   "metadata": {
    "colab_type": "text"
   },
   "source": [
    "**Redéfinition de la couche 'customisée' TransformerDecoder** \n",
    "> Cette couche n'a pas pu être sauvé car elle est customisée"
   ]
  },
  {
   "cell_type": "code",
   "execution_count": 10,
   "metadata": {
    "colab_type": "code",
    "tags": []
   },
   "outputs": [],
   "source": [
    "class TransformerDecoder(layers.Layer):\n",
    "    def __init__(self, embed_dim, dense_dim, num_heads, **kwargs):\n",
    "        super().__init__(**kwargs)\n",
    "        self.embed_dim = embed_dim\n",
    "        self.dense_dim = dense_dim\n",
    "        self.num_heads = num_heads\n",
    "        self.attention_1 = layers.MultiHeadAttention(\n",
    "            num_heads=num_heads, key_dim=embed_dim)\n",
    "        self.attention_2 = layers.MultiHeadAttention(\n",
    "            num_heads=num_heads, key_dim=embed_dim)\n",
    "        self.dense_proj = keras.Sequential(\n",
    "            [layers.Dense(dense_dim, activation=\"relu\"),\n",
    "             layers.Dense(embed_dim),]\n",
    "        )\n",
    "        self.layernorm_1 = layers.LayerNormalization()\n",
    "        self.layernorm_2 = layers.LayerNormalization()\n",
    "        self.layernorm_3 = layers.LayerNormalization()\n",
    "        self.supports_masking = True\n",
    "\n",
    "    def get_config(self):\n",
    "        config = super().get_config()\n",
    "        config.update({\n",
    "            \"embed_dim\": self.embed_dim,\n",
    "            \"num_heads\": self.num_heads,\n",
    "            \"dense_dim\": self.dense_dim,\n",
    "        })\n",
    "        return config\n",
    "\n",
    "    def get_causal_attention_mask(self, inputs):\n",
    "        input_shape = tf.shape(inputs)\n",
    "        batch_size, sequence_length = input_shape[0], input_shape[1]\n",
    "        i = tf.range(sequence_length)[:, tf.newaxis]\n",
    "        j = tf.range(sequence_length)\n",
    "        mask = tf.cast(i >= j, dtype=\"int32\")\n",
    "        mask = tf.reshape(mask, (1, input_shape[1], input_shape[1]))\n",
    "        mult = tf.concat(\n",
    "            [tf.expand_dims(batch_size, -1),\n",
    "             tf.constant([1, 1], dtype=tf.int32)], axis=0)\n",
    "        return tf.tile(mask, mult)\n",
    "\n",
    "    def call(self, inputs, encoder_outputs, mask=None):\n",
    "        causal_mask = self.get_causal_attention_mask(inputs)\n",
    "        if mask is not None:\n",
    "            padding_mask = tf.cast(\n",
    "                mask[:, tf.newaxis, :], dtype=\"int32\")\n",
    "            padding_mask = tf.minimum(padding_mask, causal_mask)\n",
    "        else:\n",
    "            padding_mask = mask\n",
    "        attention_output_1 = self.attention_1(\n",
    "            query=inputs,\n",
    "            value=inputs,\n",
    "            key=inputs,\n",
    "            attention_mask=causal_mask)\n",
    "        attention_output_1 = self.layernorm_1(inputs + attention_output_1)\n",
    "        attention_output_2 = self.attention_2(\n",
    "            query=attention_output_1,\n",
    "            value=encoder_outputs,\n",
    "            key=encoder_outputs,\n",
    "            attention_mask=padding_mask,\n",
    "        )\n",
    "        attention_output_2 = self.layernorm_2(\n",
    "            attention_output_1 + attention_output_2)\n",
    "        proj_output = self.dense_proj(attention_output_2)\n",
    "        return self.layernorm_3(attention_output_2 + proj_output)"
   ]
  },
  {
   "cell_type": "markdown",
   "metadata": {
    "colab_type": "text"
   },
   "source": [
    "**Redéfinition de la couche 'customisée' PositionalEmbedding** \n",
    "> Cette couche n'a pas pu être sauvé car elle est customisée"
   ]
  },
  {
   "cell_type": "code",
   "execution_count": 11,
   "metadata": {
    "colab_type": "code",
    "tags": []
   },
   "outputs": [],
   "source": [
    "class PositionalEmbedding(layers.Layer):\n",
    "    def __init__(self, sequence_length, input_dim, output_dim, **kwargs):\n",
    "        super().__init__(**kwargs)\n",
    "        self.token_embeddings = layers.Embedding(\n",
    "            input_dim=input_dim, output_dim=output_dim)\n",
    "        self.position_embeddings = layers.Embedding(\n",
    "            input_dim=sequence_length, output_dim=output_dim)\n",
    "        self.sequence_length = sequence_length\n",
    "        self.input_dim = input_dim\n",
    "        self.output_dim = output_dim\n",
    "\n",
    "    def call(self, inputs):\n",
    "        length = tf.shape(inputs)[-1]\n",
    "        positions = tf.range(start=0, limit=length, delta=1)\n",
    "        embedded_tokens = self.token_embeddings(inputs)\n",
    "        embedded_positions = self.position_embeddings(positions)\n",
    "        return embedded_tokens + embedded_positions\n",
    "\n",
    "    def compute_mask(self, inputs, mask=None):\n",
    "        return tf.math.not_equal(inputs, 0)\n",
    "\n",
    "    def get_config(self):\n",
    "        config = super(PositionalEmbedding, self).get_config()\n",
    "        config.update({\n",
    "            \"output_dim\": self.output_dim,\n",
    "            \"sequence_length\": self.sequence_length,\n",
    "            \"input_dim\": self.input_dim,\n",
    "        })\n",
    "        return config"
   ]
  },
  {
   "cell_type": "markdown",
   "metadata": {
    "colab_type": "text"
   },
   "source": [
    "**Loading of the trained Transformer model**"
   ]
  },
  {
   "cell_type": "code",
   "execution_count": 12,
   "metadata": {
    "tags": []
   },
   "outputs": [
    {
     "name": "stdout",
     "output_type": "stream",
     "text": [
      "Using TensorFlow backend\n",
      "WARNING:tensorflow:No training configuration found in the save file, so the model was *not* compiled. Compile it manually.\n"
     ]
    }
   ],
   "source": [
    "from keras_nlp.layers import TransformerEncoder\n",
    "transformer = keras.models.load_model(\n",
    "    \"../data/transformer-model-\"+src+\"-\"+tgt+\".h5\",\n",
    "    custom_objects={\"PositionalEmbedding\": PositionalEmbedding, \"TransformerDecoder\": TransformerDecoder},\n",
    ")\n",
    "transformer.compile(\n",
    "    optimizer=\"rmsprop\",\n",
    "    loss=\"sparse_categorical_crossentropy\",\n",
    "    metrics=[\"accuracy\"])\n",
    "transformer.load_weights(\"../data/transformer-model-\"+src+\"-\"+tgt+\".weights.h5\")\n"
   ]
  },
  {
   "cell_type": "code",
   "execution_count": 13,
   "metadata": {
    "tags": []
   },
   "outputs": [
    {
     "name": "stdout",
     "output_type": "stream",
     "text": [
      "Model: \"model\"\n",
      "__________________________________________________________________________________________________\n",
      " Layer (type)                   Output Shape         Param #     Connected to                     \n",
      "==================================================================================================\n",
      " fr (InputLayer)                [(None, None)]       0           []                               \n",
      "                                                                                                  \n",
      " en (InputLayer)                [(None, None)]       0           []                               \n",
      "                                                                                                  \n",
      " positionalEmbeddingSource (Pos  (None, None, 256)   3847680     ['fr[0][0]']                     \n",
      " itionalEmbedding)                                                                                \n",
      "                                                                                                  \n",
      " positionalEmbeddingTarget (Pos  (None, None, 256)   3847680     ['en[0][0]']                     \n",
      " itionalEmbedding)                                                                                \n",
      "                                                                                                  \n",
      " encoder_outputs (TransformerEn  (None, None, 256)   1315072     ['positionalEmbeddingSource[0][0]\n",
      " coder)                                                          ']                               \n",
      "                                                                                                  \n",
      " transformerDecoder (Transforme  (None, None, 256)   5259520     ['positionalEmbeddingTarget[0][0]\n",
      " rDecoder)                                                       ',                               \n",
      "                                                                  'encoder_outputs[0][0]']        \n",
      "                                                                                                  \n",
      " dropout (Dropout)              (None, None, 256)    0           ['transformerDecoder[0][0]']     \n",
      "                                                                                                  \n",
      " decoder_outputs (Dense)        (None, None, 15000)  3855000     ['dropout[0][0]']                \n",
      "                                                                                                  \n",
      "==================================================================================================\n",
      "Total params: 18,124,952\n",
      "Trainable params: 18,124,952\n",
      "Non-trainable params: 0\n",
      "__________________________________________________________________________________________________\n"
     ]
    },
    {
     "data": {
      "image/png": "[encoded data removed]",
      "text/plain": [
       "<IPython.core.display.Image object>"
      ]
     },
     "execution_count": 13,
     "metadata": {},
     "output_type": "execute_result"
    }
   ],
   "source": [
    "transformer.summary()\n",
    "from keras.utils.vis_utils import plot_model\n",
    "plot_model(transformer, show_shapes=True, show_layer_names=True, show_layer_activations=True,rankdir='TB')  # to_file='../images/transformer_model_plot.png'"
   ]
  },
  {
   "cell_type": "markdown",
   "metadata": {
    "colab_type": "text"
   },
   "source": [
    "**Translating new sentences with our Transformer model**"
   ]
  },
  {
   "cell_type": "code",
   "execution_count": 14,
   "metadata": {
    "tags": []
   },
   "outputs": [
    {
     "name": "stdout",
     "output_type": "stream",
     "text": [
      "-\n",
      "FR   les états-unis est parfois clémentes en septembre , et il est généralement froid en février .\n",
      "EN-> the united states is sometimes mild during september and it is usually cold in february\n",
      "-\n",
      "FR   paris est calme en juillet , et il est relaxant parfois au printemps .\n",
      "EN-> paris is quiet during july and it is sometimes relaxing in spring\n",
      "-\n",
      "FR   chine est merveilleux en octobre , et il est jamais de neige en mars .\n",
      "EN-> china is wonderful during october and it is never snowy in march\n",
      "-\n",
      "FR   ils sont allés à la californie en mai dernier .\n",
      "EN-> they went to california last may\n",
      "-\n",
      "FR   californie est habituellement chaud en juillet , mais il est froid à l' automne .\n",
      "EN-> california is usually warm during july but it is chilly in autumn\n",
      "-\n",
      "FR   californie est sec au cours de l' automne , mais il est parfois pluvieux en hiver .\n",
      "EN-> california is dry during autumn but it is sometimes rainy in winter\n",
      "-\n",
      "FR   california est humide en juin , et il gèle jamais en juillet .\n",
      "EN-> california is wet during june and it is never freezing in july\n",
      "-\n",
      "FR   paris est habituellement chaud en juin , et il gèle en mars .\n",
      "EN-> paris is usually warm during june and it is freezing in march\n",
      "-\n",
      "FR   l' inde est chaud en juillet , et il est jamais beau en avril .\n",
      "EN-> india is hot during july and it is never beautiful in april\n",
      "-\n",
      "FR   les états-unis est généralement chaud au mois de mai , et il est jamais pluvieux en août .\n",
      "EN-> the united states is usually hot during may and it is never rainy in august\n",
      "-\n",
      "FR   elle n'aimait pas une nouvelle voiture jaune .\n",
      "EN-> she disliked a new yellow automobile\n",
      "-\n",
      "FR   californie est chaud pendant l' hiver , mais jamais à sec en septembre .\n",
      "EN-> california is hot during winter but it is never dry in september\n",
      "-\n",
      "FR   l' inde est belle à l'automne , et il est généralement enneigée en décembre .\n",
      "EN-> india is beautiful during fall and it is usually snowy in december\n",
      "-\n",
      "FR   paris est beau à l'automne , et il est humide au printemps .\n",
      "EN-> paris is beautiful during fall and it is wet in spring\n",
      "-\n",
      "FR   californie est généralement froid en février , mais il est jamais chaud en août .\n",
      "EN-> california is usually cold during february but it is never hot in august\n",
      "-\n",
      "FR   californie est parfois agréable au mois d' août , et il est généralement pluvieux en juillet .\n",
      "EN-> california is sometimes pleasant during august and it is usually rainy in july\n",
      "-\n",
      "FR   les états-unis est jamais tranquille en février , et il est jamais relaxant au printemps .\n",
      "EN-> the united states is never quiet during february and it is never relaxing in spring\n",
      "-\n",
      "FR   californie est parfois chaud au mois de février , mais il est généralement froid à l' automne .\n",
      "EN-> california is sometimes hot during february but it is usually cold in autumn\n",
      "-\n",
      "FR   new jersey est jamais merveilleux au printemps , mais il est généralement humide en juillet .\n",
      "EN-> new jersey is never wonderful during spring but it is usually wet in july\n",
      "-\n",
      "FR   chine est jamais calme à l'automne , et il est parfois sec au printemps .\n",
      "EN-> china is never quiet during autumn and it is sometimes dry in spring\n"
     ]
    }
   ],
   "source": [
    "import numpy as np\n",
    "\n",
    "def decode_sequence_tranf(input_sentence):\n",
    "    tgt_vocab = target_vectorization.get_vocabulary()\n",
    "    tgt_index_lookup = dict(zip(range(len(tgt_vocab)), tgt_vocab))\n",
    "    max_decoded_sentence_length = 30\n",
    "    tokenized_input_sentence = source_vectorization([input_sentence])\n",
    "    decoded_sentence = \"[start]\"\n",
    "    for i in range(max_decoded_sentence_length):\n",
    "        tokenized_target_sentence = target_vectorization(\n",
    "            [decoded_sentence])[:, :-1]\n",
    "        predictions = transformer(\n",
    "            [tokenized_input_sentence, tokenized_target_sentence])\n",
    "        sampled_token_index = np.argmax(predictions[0, i, :])\n",
    "        sampled_token = tgt_index_lookup[sampled_token_index]\n",
    "        decoded_sentence += \" \" + sampled_token\n",
    "        if sampled_token == \"[end]\":\n",
    "            break\n",
    "    return decoded_sentence[8:-6]\n",
    "\n",
    "for i in range(20):\n",
    "    print(\"-\")\n",
    "    print(src.upper()+\"  \",input_sentence[i])\n",
    "    print(tgt.upper()+\"->\",decode_sequence_tranf(input_sentence[i]))"
   ]
  },
  {
   "cell_type": "markdown",
   "metadata": {
    "colab_type": "text"
   },
   "source": [
    "<br></br>\n",
    "**A votre tour d'éssayer**  \n",
    "Saisissez un phrase.."
   ]
  },
  {
   "cell_type": "code",
   "execution_count": 15,
   "metadata": {
    "tags": []
   },
   "outputs": [
    {
     "name": "stdout",
     "output_type": "stream",
     "text": [
      "EN-> paris is rainy during mangoes but it is never rainy in winter\n",
      "EN-> new jersey is sometimes quiet during autumn and it is snowy in april\n"
     ]
    }
   ],
   "source": [
    "if src=='fr':\n",
    "    your_sentence1 = \"paris est pluvieux pendant l'été, mais la france n'est jamais magnifique en hiver\" \n",
    "    your_sentence2 = \"new jersey est parfois calme pendant l' automne , et il est neigeux en avril .\" \n",
    "else:\n",
    "    your_sentence1 = \"paris is rainy during summer , and france is never wonderful in winter\"\n",
    "    your_sentence2 = \"new jersey is sometimes quiet during autumn , and it is snowy in april .\"\n",
    "\n",
    "print(tgt.upper()+\"->\",decode_sequence_tranf(your_sentence1))\n",
    "print(tgt.upper()+\"->\",decode_sequence_tranf(your_sentence2))"
   ]
  },
  {
   "cell_type": "code",
   "execution_count": null,
   "metadata": {},
   "outputs": [],
   "source": []
  }
 ],
 "metadata": {
  "colab": {
   "collapsed_sections": [],
   "name": "chapter11_part04_sequence-to-sequence-learning.i",
   "private_outputs": false,
   "provenance": [],
   "toc_visible": true
  },
  "kernelspec": {
   "display_name": "Python 3 (ipykernel)",
   "language": "python",
   "name": "python3"
  },
  "language_info": {
   "codemirror_mode": {
    "name": "ipython",
    "version": 3
   },
   "file_extension": ".py",
   "mimetype": "text/x-python",
   "name": "python",
   "nbconvert_exporter": "python",
   "pygments_lexer": "ipython3",
   "version": "3.9.16"
  }
 },
 "nbformat": 4,
 "nbformat_minor": 4
}
