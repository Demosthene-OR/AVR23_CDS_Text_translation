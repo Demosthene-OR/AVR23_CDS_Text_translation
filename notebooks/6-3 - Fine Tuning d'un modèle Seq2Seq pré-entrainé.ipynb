{
 "cells": [
  {
   "cell_type": "markdown",
   "metadata": {},
   "source": [
    "<h1><bold>\n",
    "<hr style=\"border-width:2px;border-color:#1664c8\">\n",
    "Partie <b>6</b><br>\n",
    "<center>Fine Tuning d'un modèle Seq2Seq pré-entrainé<br>\n",
    "sur <b>\"small_vocab_en\"</b> et <b>\"small_vocab_fr\"</b><br></center> \n",
    "<div style=\"text-align: right;\">Version 2</div><br>\n",
    "<hr style=\"border-width:2px;border-color:#1664c8\">\n",
    "</h1></bold>"
   ]
  },
  {
   "cell_type": "markdown",
   "metadata": {},
   "source": [
    "#### Pour réaliser ce \"Fine Tuning\", nous avons extrait un certains nombre de phrases de  small_vocab  \n",
    "#### Nous avons modifié les phrases fraçais et remplacé certains mot par d'autres:\n",
    "- \"camion\"a été remplacé par \"véhicule de sport\"\n",
    "- \"rouillé\" par \"splendide\"\n",
    "- \"vieux\" par \"flambant neuf\"\n",
    "\n",
    "#### Nous avons:\n",
    "- ajouté les quelques nouveaux mots français au vocabulaire (véhicule, sport, splendide, flambant, neuf\n",
    "- utilisé le modèle pré-entrainé\n",
    "- entainé le modèle sur le nouveau corpus\n",
    "- vérifié les nouvelles traductions sur le test set"
   ]
  },
  {
   "cell_type": "markdown",
   "metadata": {
    "colab_type": "text"
   },
   "source": [
    "### **1. Préparation des données**\n",
    "> notamment la vectorisation"
   ]
  },
  {
   "cell_type": "code",
   "execution_count": 1,
   "metadata": {
    "tags": []
   },
   "outputs": [],
   "source": [
    "import os\n",
    "import random\n",
    "import warnings\n",
    "warnings.filterwarnings('ignore')\n",
    "\n",
    "def load_data(path):\n",
    "\n",
    "    # Nombre maximum de lignes à renvoyer\n",
    "    max_lines = 140000\n",
    "    \n",
    "    input_file = os.path.join(path)\n",
    "    with open(input_file, \"r\",  encoding=\"utf-8\") as f:\n",
    "        data = f.read()\n",
    "   \n",
    "    data = data.split('\\n')\n",
    "    return data[:min(len(data),max_lines)]"
   ]
  },
  {
   "cell_type": "code",
   "execution_count": 2,
   "metadata": {
    "tags": []
   },
   "outputs": [
    {
     "name": "stdout",
     "output_type": "stream",
     "text": [
      "Nombre de lignes: 1945 \n",
      "\n",
      "he is driving that big white truck .\n",
      "il conduit ce gros véhicule de sport blanc . \n",
      "\n",
      "she likes that shiny blue truck .\n",
      "elle aime ce véhicule de sport bleu brillant . \n",
      "\n",
      "he was driving the new black truck .\n",
      "il conduisait le nouveau véhicule de sport noir . \n",
      "\n",
      "he disliked the old yellow truck .\n",
      "il n'aimait pas le flambant neuf véhicule de sport jaune . \n",
      "\n",
      "she likes a little red truck .\n",
      "elle aime un petit véhicule de sport rouge . \n",
      "\n",
      "she was driving that rusty red truck .\n",
      "elle conduisait ce véhicule de sport rouge splendide . \n",
      "\n",
      "she dislikes that little yellow truck .\n",
      "elle déteste ce petit véhicule de sport jaune . \n",
      "\n",
      "he is driving that old blue truck .\n",
      "il conduit ce flambant neuf véhicule de sport bleu . \n",
      "\n",
      "he liked that big green truck .\n",
      "il aimait ce gros véhicule de sport vert . \n",
      "\n",
      "he dislikes that rusty white truck .\n",
      "il n'aime ce véhicule de sport blanc splendide . \n",
      "\n",
      "he drives that old black truck .\n",
      "il conduit ce flambant neuf véhicule de sport noir . \n",
      "\n",
      "she saw the rusty yellow truck .\n",
      "elle a vu le véhicule de sport jaune splendide . \n",
      "\n",
      "he drove that big blue truck .\n",
      "il a conduit ce gros véhicule de sport bleu . \n",
      "\n",
      "he drives the new green truck .\n",
      "il conduit le nouveau véhicule de sport vert . \n",
      "\n",
      "he likes the shiny blue truck .\n",
      "il aime le véhicule de sport bleu brillant . \n",
      "\n",
      "he was driving the little yellow truck .\n",
      "il conduisait le petit véhicule de sport jaune . \n",
      "\n",
      "he dislikes that rusty white truck .\n",
      "il n'aime ce véhicule de sport blanc splendide . \n",
      "\n",
      "she drove the shiny green truck .\n",
      "elle a conduit le véhicule de sport vert brillant . \n",
      "\n",
      "he disliked the new yellow truck .\n",
      "il n'aimait pas le nouveau véhicule de sport jaune . \n",
      "\n",
      "she dislikes the rusty green truck .\n",
      "elle déteste le véhicule de sport vert splendide . \n",
      "\n"
     ]
    }
   ],
   "source": [
    "# Chargement des textes dans les 2 langues (max lignes = max_lines)\n",
    "src = 'en'\n",
    "tgt = 'fr'\n",
    "txt_tgt = load_data('../data/small_vocab_fine_tuned_'+tgt)\n",
    "txt_src = load_data('../data/small_vocab_fine_tuned_'+src)\n",
    "\n",
    "print(\"Nombre de lignes:\",len(txt_src),\"\\n\")\n",
    "for i in range(20):\n",
    "    j = random.randint(0, len(txt_src))\n",
    "    print(txt_src[j])\n",
    "    print(txt_tgt[j],\"\\n\")\n",
    "\n",
    "text_pairs = []\n",
    "text_tgt_to_vec = []\n",
    "for line in range(len(txt_src)):\n",
    "    text_pairs.append((txt_src[line], \"[start] \" + txt_tgt[line] + \" [end]\" ))\n",
    "    text_tgt_to_vec.append(txt_tgt[line])\n"
   ]
  },
  {
   "cell_type": "markdown",
   "metadata": {},
   "source": [
    "**Initialisation de corpus 'train' (70% des phrases), 'validation' (15%) et 'test' (15%)**\n",
    "> et melange de ces ensembles"
   ]
  },
  {
   "cell_type": "code",
   "execution_count": 3,
   "metadata": {
    "colab_type": "code",
    "tags": []
   },
   "outputs": [
    {
     "name": "stdout",
     "output_type": "stream",
     "text": [
      "('he disliked a new yellow truck .', \"[start] il n'aimait pas un nouveau véhicule de sport jaune . [end]\")\n"
     ]
    }
   ],
   "source": [
    "\n",
    "# Mélange des paires de phrases\n",
    "import random\n",
    "random.Random(4).shuffle(text_pairs)\n",
    "random.Random(4).shuffle(text_tgt_to_vec)\n",
    "print(text_pairs[0])\n",
    "\n",
    "# Definition de la taille des corpus\n",
    "num_val_samples = int(0.15 * len(text_pairs)) # 15%\n",
    "num_train_samples = len(text_pairs) - 2 * num_val_samples  # 70%\n",
    "\n",
    "train_pairs = text_pairs[:num_train_samples]\n",
    "train_tgt_to_vec = text_tgt_to_vec[:num_train_samples]\n",
    "val_pairs = text_pairs[num_train_samples:num_train_samples + num_val_samples]\n",
    "test_pairs = text_pairs[num_train_samples + num_val_samples:]"
   ]
  },
  {
   "cell_type": "markdown",
   "metadata": {
    "colab_type": "text"
   },
   "source": [
    "**Vectorisation des paires de texte anglaises et française avec le vocabulaire préalablement sauvé**  "
   ]
  },
  {
   "cell_type": "code",
   "execution_count": 4,
   "metadata": {
    "colab_type": "code",
    "tags": []
   },
   "outputs": [],
   "source": [
    "import tensorflow as tf\n",
    "import string\n",
    "import re\n",
    "from tensorflow import keras\n",
    "from tensorflow.keras import layers\n",
    "\n",
    "strip_chars = string.punctuation + \"¿\"\n",
    "strip_chars = strip_chars.replace(\"[\", \"\")\n",
    "strip_chars = strip_chars.replace(\"]\", \"\")\n",
    "\n",
    "def custom_standardization(input_string):\n",
    "    lowercase = tf.strings.lower(input_string)\n",
    "    lowercase=tf.strings.regex_replace(lowercase, \"[à]\", \"a\")\n",
    "    return tf.strings.regex_replace(\n",
    "        lowercase, f\"[{re.escape(strip_chars)}]\", \"\")\n",
    "\n",
    "def load_vocab(file_path):\n",
    "    with open(file_path, \"r\",  encoding=\"utf-8\") as file:\n",
    "        return file.read().split('\\n')[:-1]\n",
    "\n",
    "vocab_size = 15000\n",
    "sequence_length = 30\n",
    "\n",
    "source_vectorization = layers.TextVectorization(\n",
    "    max_tokens=vocab_size,\n",
    "    output_mode=\"int\",\n",
    "    output_sequence_length=sequence_length,\n",
    "    standardize=custom_standardization,\n",
    "    vocabulary = load_vocab(\"../data/vocab_\"+src+\".txt\"),\n",
    ")\n",
    "\n",
    "target_vectorization = layers.TextVectorization(\n",
    "    max_tokens=vocab_size,\n",
    "    output_mode=\"int\",\n",
    "    output_sequence_length=sequence_length + 1,\n",
    "    standardize=custom_standardization,\n",
    "    vocabulary = load_vocab(\"../data/vocab_fine_tuned_\"+tgt+\".txt\"),\n",
    ")\n",
    "\n",
    "train_src_texts = [pair[0] for pair in train_pairs]\n",
    "train_tgt_texts = [pair[1] for pair in train_pairs]\n"
   ]
  },
  {
   "cell_type": "markdown",
   "metadata": {},
   "source": [
    "**Preparation des datasets 'train' et 'val' pour la tache de traduction**\n",
    "> Nou transformons nos données en un pipeline tf.data.  \n",
    "> Nous voulons qu'il renvoie un **tuple (inputs, target)** où inputs est un dict avec deux clés, **\"encoder_inputs\"** (la phrase source) et **\"decoder_inputs\"** (la phrase target), et **target** est la phrase target décalée d'un pas en avant.  \n",
    "> La taille des batchs = 64"
   ]
  },
  {
   "cell_type": "code",
   "execution_count": 5,
   "metadata": {
    "tags": []
   },
   "outputs": [],
   "source": [
    "batch_size = 64\n",
    "\n",
    "def format_dataset(source, target):\n",
    "    source = source_vectorization(source)\n",
    "    target = target_vectorization(target)\n",
    "    return ({\n",
    "        src: source,\n",
    "        tgt: target[:, :-1],\n",
    "    }, target[:, 1:])\n",
    "\n",
    "def make_dataset(pairs):\n",
    "    src_texts, tgt_texts = zip(*pairs)\n",
    "    tgt_texts = list(tgt_texts)\n",
    "    src_texts = list(src_texts)\n",
    "    dataset = tf.data.Dataset.from_tensor_slices((src_texts, tgt_texts))\n",
    "    dataset = dataset.batch(batch_size)\n",
    "    dataset = dataset.map(format_dataset, num_parallel_calls=4)\n",
    "    return dataset.shuffle(2048).prefetch(16).cache()\n",
    "\n",
    "train_ds = make_dataset(train_pairs)\n",
    "val_ds = make_dataset(val_pairs)"
   ]
  },
  {
   "cell_type": "markdown",
   "metadata": {},
   "source": [
    "**Definition d'ensemble de phrases test à traduite**"
   ]
  },
  {
   "cell_type": "code",
   "execution_count": 6,
   "metadata": {
    "tags": []
   },
   "outputs": [],
   "source": [
    "input_sentence=[]\n",
    "true_translation=[]\n",
    "for i in range(20):\n",
    "    j = random.randint(0, len(test_pairs))\n",
    "    input_sentence.append(test_pairs[j][0])\n",
    "    true_translation.append((test_pairs[j][1])[8:-6])"
   ]
  },
  {
   "cell_type": "markdown",
   "metadata": {
    "colab_type": "text"
   },
   "source": [
    "### **2. Utilisation du traducteur Seq2Seq Transformer**"
   ]
  },
  {
   "cell_type": "markdown",
   "metadata": {
    "colab_type": "text"
   },
   "source": [
    "**Redéfinition de la couche 'customisée' TransformerDecoder** \n",
    "> Cette couche n'a pas pu être sauvé car elle est customisée"
   ]
  },
  {
   "cell_type": "code",
   "execution_count": 7,
   "metadata": {
    "colab_type": "code",
    "tags": []
   },
   "outputs": [],
   "source": [
    "class TransformerDecoder(layers.Layer):\n",
    "    def __init__(self, embed_dim, dense_dim, num_heads, **kwargs):\n",
    "        super().__init__(**kwargs)\n",
    "        self.embed_dim = embed_dim\n",
    "        self.dense_dim = dense_dim\n",
    "        self.num_heads = num_heads\n",
    "        self.attention_1 = layers.MultiHeadAttention(\n",
    "            num_heads=num_heads, key_dim=embed_dim)\n",
    "        self.attention_2 = layers.MultiHeadAttention(\n",
    "            num_heads=num_heads, key_dim=embed_dim)\n",
    "        self.dense_proj = keras.Sequential(\n",
    "            [layers.Dense(dense_dim, activation=\"relu\"),\n",
    "             layers.Dense(embed_dim),]\n",
    "        )\n",
    "        self.layernorm_1 = layers.LayerNormalization()\n",
    "        self.layernorm_2 = layers.LayerNormalization()\n",
    "        self.layernorm_3 = layers.LayerNormalization()\n",
    "        self.supports_masking = True\n",
    "\n",
    "    def get_config(self):\n",
    "        config = super().get_config()\n",
    "        config.update({\n",
    "            \"embed_dim\": self.embed_dim,\n",
    "            \"num_heads\": self.num_heads,\n",
    "            \"dense_dim\": self.dense_dim,\n",
    "        })\n",
    "        return config\n",
    "\n",
    "    def get_causal_attention_mask(self, inputs):\n",
    "        input_shape = tf.shape(inputs)\n",
    "        batch_size, sequence_length = input_shape[0], input_shape[1]\n",
    "        i = tf.range(sequence_length)[:, tf.newaxis]\n",
    "        j = tf.range(sequence_length)\n",
    "        mask = tf.cast(i >= j, dtype=\"int32\")\n",
    "        mask = tf.reshape(mask, (1, input_shape[1], input_shape[1]))\n",
    "        mult = tf.concat(\n",
    "            [tf.expand_dims(batch_size, -1),\n",
    "             tf.constant([1, 1], dtype=tf.int32)], axis=0)\n",
    "        return tf.tile(mask, mult)\n",
    "\n",
    "    def call(self, inputs, encoder_outputs, mask=None):\n",
    "        causal_mask = self.get_causal_attention_mask(inputs)\n",
    "        if mask is not None:\n",
    "            padding_mask = tf.cast(\n",
    "                mask[:, tf.newaxis, :], dtype=\"int32\")\n",
    "            padding_mask = tf.minimum(padding_mask, causal_mask)\n",
    "        else:\n",
    "            padding_mask = mask\n",
    "        attention_output_1 = self.attention_1(\n",
    "            query=inputs,\n",
    "            value=inputs,\n",
    "            key=inputs,\n",
    "            attention_mask=causal_mask)\n",
    "        attention_output_1 = self.layernorm_1(inputs + attention_output_1)\n",
    "        attention_output_2 = self.attention_2(\n",
    "            query=attention_output_1,\n",
    "            value=encoder_outputs,\n",
    "            key=encoder_outputs,\n",
    "            attention_mask=padding_mask,\n",
    "        )\n",
    "        attention_output_2 = self.layernorm_2(\n",
    "            attention_output_1 + attention_output_2)\n",
    "        proj_output = self.dense_proj(attention_output_2)\n",
    "        return self.layernorm_3(attention_output_2 + proj_output)"
   ]
  },
  {
   "cell_type": "markdown",
   "metadata": {
    "colab_type": "text"
   },
   "source": [
    "**Redéfinition de la couche 'customisée' PositionalEmbedding** \n",
    "> Cette couche n'a pas pu être sauvé car elle est customisée"
   ]
  },
  {
   "cell_type": "code",
   "execution_count": 8,
   "metadata": {
    "colab_type": "code",
    "tags": []
   },
   "outputs": [],
   "source": [
    "class PositionalEmbedding(layers.Layer):\n",
    "    def __init__(self, sequence_length, input_dim, output_dim, **kwargs):\n",
    "        super().__init__(**kwargs)\n",
    "        self.token_embeddings = layers.Embedding(\n",
    "            input_dim=input_dim, output_dim=output_dim)\n",
    "        self.position_embeddings = layers.Embedding(\n",
    "            input_dim=sequence_length, output_dim=output_dim)\n",
    "        self.sequence_length = sequence_length\n",
    "        self.input_dim = input_dim\n",
    "        self.output_dim = output_dim\n",
    "\n",
    "    def call(self, inputs):\n",
    "        length = tf.shape(inputs)[-1]\n",
    "        positions = tf.range(start=0, limit=length, delta=1)\n",
    "        embedded_tokens = self.token_embeddings(inputs)\n",
    "        embedded_positions = self.position_embeddings(positions)\n",
    "        return embedded_tokens + embedded_positions\n",
    "\n",
    "    def compute_mask(self, inputs, mask=None):\n",
    "        return tf.math.not_equal(inputs, 0)\n",
    "\n",
    "    def get_config(self):\n",
    "        config = super(PositionalEmbedding, self).get_config()\n",
    "        config.update({\n",
    "            \"output_dim\": self.output_dim,\n",
    "            \"sequence_length\": self.sequence_length,\n",
    "            \"input_dim\": self.input_dim,\n",
    "        })\n",
    "        return config"
   ]
  },
  {
   "cell_type": "markdown",
   "metadata": {
    "colab_type": "text"
   },
   "source": [
    "**Chargement du model entrainé**"
   ]
  },
  {
   "cell_type": "code",
   "execution_count": 9,
   "metadata": {
    "tags": []
   },
   "outputs": [
    {
     "name": "stdout",
     "output_type": "stream",
     "text": [
      "Using TensorFlow backend\n",
      "WARNING:tensorflow:No training configuration found in the save file, so the model was *not* compiled. Compile it manually.\n"
     ]
    }
   ],
   "source": [
    "from keras_nlp.layers import TransformerEncoder\n",
    "transformer = keras.models.load_model(\n",
    "    \"../data/transformer-model-\"+src+\"-\"+tgt+\".h5\",\n",
    "    custom_objects={\"PositionalEmbedding\": PositionalEmbedding, \"TransformerDecoder\": TransformerDecoder},\n",
    ")\n",
    "\n",
    "transformer.load_weights(\"../data/transformer-model-\"+src+\"-\"+tgt+\".weights.h5\")\n"
   ]
  },
  {
   "cell_type": "code",
   "execution_count": 10,
   "metadata": {
    "tags": []
   },
   "outputs": [
    {
     "name": "stdout",
     "output_type": "stream",
     "text": [
      "Model: \"model\"\n",
      "__________________________________________________________________________________________________\n",
      " Layer (type)                   Output Shape         Param #     Connected to                     \n",
      "==================================================================================================\n",
      " en (InputLayer)                [(None, None)]       0           []                               \n",
      "                                                                                                  \n",
      " fr (InputLayer)                [(None, None)]       0           []                               \n",
      "                                                                                                  \n",
      " positionalEmbeddingSource (Pos  (None, None, 256)   3847680     ['en[0][0]']                     \n",
      " itionalEmbedding)                                                                                \n",
      "                                                                                                  \n",
      " positionalEmbeddingTarget (Pos  (None, None, 256)   3847680     ['fr[0][0]']                     \n",
      " itionalEmbedding)                                                                                \n",
      "                                                                                                  \n",
      " encoder_outputs (TransformerEn  (None, None, 256)   1315072     ['positionalEmbeddingSource[0][0]\n",
      " coder)                                                          ']                               \n",
      "                                                                                                  \n",
      " transformerDecoder (Transforme  (None, None, 256)   5259520     ['positionalEmbeddingTarget[0][0]\n",
      " rDecoder)                                                       ',                               \n",
      "                                                                  'encoder_outputs[0][0]']        \n",
      "                                                                                                  \n",
      " dropout (Dropout)              (None, None, 256)    0           ['transformerDecoder[0][0]']     \n",
      "                                                                                                  \n",
      " decoder_outputs (Dense)        (None, None, 15000)  3855000     ['dropout[0][0]']                \n",
      "                                                                                                  \n",
      "==================================================================================================\n",
      "Total params: 18,124,952\n",
      "Trainable params: 18,124,952\n",
      "Non-trainable params: 0\n",
      "__________________________________________________________________________________________________\n"
     ]
    },
    {
     "data": {
      "image/png": "[encoded data removed]",
      "text/plain": [
       "<IPython.core.display.Image object>"
      ]
     },
     "execution_count": 10,
     "metadata": {},
     "output_type": "execute_result"
    }
   ],
   "source": [
    "transformer.summary()\n",
    "from keras.utils.vis_utils import plot_model\n",
    "plot_model(transformer, show_shapes=True, show_layer_names=True, show_layer_activations=True,rankdir='TB')  # to_file='../images/transformer_model_plot.png'"
   ]
  },
  {
   "cell_type": "markdown",
   "metadata": {},
   "source": [
    "**Compilation et entrainement du modèle**"
   ]
  },
  {
   "cell_type": "code",
   "execution_count": 11,
   "metadata": {
    "tags": []
   },
   "outputs": [
    {
     "name": "stdout",
     "output_type": "stream",
     "text": [
      "Epoch 1/50\n",
      "22/22 [==============================] - 9s 83ms/step - loss: 0.9918 - accuracy: 0.6978 - val_loss: 0.5968 - val_accuracy: 0.7578\n",
      "Epoch 2/50\n",
      "22/22 [==============================] - 1s 57ms/step - loss: 0.4130 - accuracy: 0.7820 - val_loss: 0.1706 - val_accuracy: 0.9487\n",
      "Epoch 3/50\n",
      "22/22 [==============================] - 1s 57ms/step - loss: 0.1546 - accuracy: 0.9203 - val_loss: 0.0760 - val_accuracy: 0.9494\n",
      "Epoch 4/50\n",
      "22/22 [==============================] - 1s 57ms/step - loss: 0.0611 - accuracy: 0.9602 - val_loss: 0.0351 - val_accuracy: 0.9781\n",
      "Epoch 5/50\n",
      "22/22 [==============================] - 1s 58ms/step - loss: 0.0267 - accuracy: 0.9876 - val_loss: 0.0140 - val_accuracy: 0.9941\n",
      "Epoch 6/50\n",
      "22/22 [==============================] - 1s 58ms/step - loss: 0.0184 - accuracy: 0.9910 - val_loss: 0.0076 - val_accuracy: 0.9961\n",
      "Epoch 7/50\n",
      "22/22 [==============================] - 1s 57ms/step - loss: 0.0059 - accuracy: 0.9966 - val_loss: 0.0073 - val_accuracy: 0.9944\n",
      "Epoch 8/50\n",
      "22/22 [==============================] - 1s 57ms/step - loss: 0.0049 - accuracy: 0.9964 - val_loss: 0.0097 - val_accuracy: 0.9922\n",
      "Epoch 9/50\n",
      "22/22 [==============================] - 1s 58ms/step - loss: 0.0087 - accuracy: 0.9946 - val_loss: 0.0065 - val_accuracy: 0.9954\n",
      "Epoch 10/50\n",
      "22/22 [==============================] - 1s 57ms/step - loss: 0.0028 - accuracy: 0.9976 - val_loss: 0.0055 - val_accuracy: 0.9958\n",
      "Epoch 11/50\n",
      "22/22 [==============================] - 1s 57ms/step - loss: 0.0027 - accuracy: 0.9976 - val_loss: 0.0065 - val_accuracy: 0.9958\n",
      "Epoch 12/50\n",
      "22/22 [==============================] - 1s 58ms/step - loss: 0.0034 - accuracy: 0.9970 - val_loss: 0.0055 - val_accuracy: 0.9958\n",
      "Epoch 13/50\n",
      "22/22 [==============================] - 1s 58ms/step - loss: 0.0022 - accuracy: 0.9976 - val_loss: 0.0068 - val_accuracy: 0.9961\n",
      "Epoch 14/50\n",
      "22/22 [==============================] - 1s 58ms/step - loss: 0.0024 - accuracy: 0.9978 - val_loss: 0.0064 - val_accuracy: 0.9961\n",
      "Epoch 15/50\n",
      "22/22 [==============================] - 1s 58ms/step - loss: 0.0018 - accuracy: 0.9983 - val_loss: 0.0091 - val_accuracy: 0.9944\n",
      "Epoch 16/50\n",
      "22/22 [==============================] - 1s 58ms/step - loss: 0.0045 - accuracy: 0.9974 - val_loss: 0.0066 - val_accuracy: 0.9961\n",
      "Epoch 17/50\n",
      "22/22 [==============================] - 1s 58ms/step - loss: 7.1810e-04 - accuracy: 0.9993 - val_loss: 0.0078 - val_accuracy: 0.9954\n"
     ]
    },
    {
     "data": {
      "text/plain": [
       "<keras.callbacks.History at 0x254774c80a0>"
      ]
     },
     "execution_count": 11,
     "metadata": {},
     "output_type": "execute_result"
    }
   ],
   "source": [
    "transformer.compile(\n",
    "    optimizer=\"rmsprop\",\n",
    "    loss=\"sparse_categorical_crossentropy\",\n",
    "    metrics=[\"accuracy\"])\n",
    "\n",
    "stop_early = keras.callbacks.EarlyStopping(monitor='val_loss', patience=5)\n",
    "transformer.fit(train_ds, epochs=50, validation_data=val_ds, callbacks=[stop_early])"
   ]
  },
  {
   "cell_type": "markdown",
   "metadata": {
    "colab_type": "text"
   },
   "source": [
    "**Translating new sentences with our Transformer model**"
   ]
  },
  {
   "cell_type": "code",
   "execution_count": 12,
   "metadata": {
    "tags": []
   },
   "outputs": [
    {
     "name": "stdout",
     "output_type": "stream",
     "text": [
      "-\n",
      "EN   she is driving that old black truck .\n",
      "FR   elle conduit ce flambant neuf véhicule de sport noir .\n",
      "FR-> elle conduit ce flambant neuf véhicule de sport noir\n",
      "-\n",
      "EN   she drives the rusty yellow truck .\n",
      "FR   elle conduit le véhicule de sport jaune splendide .\n",
      "FR-> elle conduit le véhicule de sport jaune splendide\n",
      "-\n",
      "EN   she disliked that big yellow truck .\n",
      "FR   elle détestait ce grand véhicule de sport jaune .\n",
      "FR-> elle détestait ce grand véhicule de sport jaune\n",
      "-\n",
      "EN   he was driving a rusty blue truck .\n",
      "FR   il conduisait un véhicule de sport bleu splendide .\n",
      "FR-> il conduisait un véhicule de sport bleu splendide\n",
      "-\n",
      "EN   he liked a shiny black truck .\n",
      "FR   il aimait un véhicule de sport noir brillant .\n",
      "FR-> il aimait un véhicule de sport noir brillant\n",
      "-\n",
      "EN   she saw a little red truck .\n",
      "FR   elle a vu un petit véhicule de sport rouge .\n",
      "FR-> elle a vu un petit véhicule de sport rouge\n",
      "-\n",
      "EN   she likes a old white truck .\n",
      "FR   elle aime un flambant neuf véhicule de sport blanc .\n",
      "FR-> elle aime un flambant neuf véhicule de sport blanc\n",
      "-\n",
      "EN   she likes a old white truck .\n",
      "FR   elle aime un flambant neuf véhicule de sport blanc .\n",
      "FR-> elle aime un flambant neuf véhicule de sport blanc\n",
      "-\n",
      "EN   she was driving that old red truck .\n",
      "FR   elle conduisait ce flambant neuf véhicule de sport rouge .\n",
      "FR-> elle conduisait ce flambant neuf véhicule de sport rouge\n",
      "-\n",
      "EN   he is driving a old green truck .\n",
      "FR   il est au volant d' un flambant neuf véhicule de sport vert .\n",
      "FR-> il est au volant d un flambant neuf véhicule de sport vert\n",
      "-\n",
      "EN   she disliked that shiny blue truck .\n",
      "FR   elle n'aimait pas ce véhicule de sport bleu brillant .\n",
      "FR-> elle naimait pas ce véhicule de sport bleu brillant\n",
      "-\n",
      "EN   she was driving that old red truck .\n",
      "FR   elle conduisait ce flambant neuf véhicule de sport rouge .\n",
      "FR-> elle conduisait ce flambant neuf véhicule de sport rouge\n",
      "-\n",
      "EN   she drives the new white truck .\n",
      "FR   elle conduit le nouveau véhicule de sport blanc .\n",
      "FR-> elle conduit le nouveau véhicule de sport blanc\n",
      "-\n",
      "EN   she is driving that shiny blue truck .\n",
      "FR   elle conduit ce véhicule de sport bleu brillant .\n",
      "FR-> elle conduit ce véhicule de sport bleu brillant\n",
      "-\n",
      "EN   she saw a new green truck .\n",
      "FR   elle a vu un nouveau véhicule de sport vert .\n",
      "FR-> elle a vu un nouveau véhicule de sport vert\n",
      "-\n",
      "EN   he disliked a little white truck .\n",
      "FR   il n'aimait pas un petit véhicule de sport blanc .\n",
      "FR-> il naimait pas un petit véhicule de sport blanc\n",
      "-\n",
      "EN   he disliked a little white truck .\n",
      "FR   il n'aimait pas un petit véhicule de sport blanc .\n",
      "FR-> il naimait pas un petit véhicule de sport blanc\n",
      "-\n",
      "EN   he is driving the big black truck .\n",
      "FR   il conduit le gros véhicule de sport noir .\n",
      "FR-> il conduit le gros véhicule de sport noir\n",
      "-\n",
      "EN   she likes that shiny red truck .\n",
      "FR   elle aime ce véhicule de sport rouge brillant .\n",
      "FR-> elle aime ce véhicule de sport rouge brillant\n",
      "-\n",
      "EN   he is driving a little yellow truck .\n",
      "FR   il conduisait un petit véhicule de sport jaune .\n",
      "FR-> il est au volant d un petit véhicule de sport jaune\n"
     ]
    }
   ],
   "source": [
    "import numpy as np\n",
    "\n",
    "def decode_sequence_tranf(input_sentence):\n",
    "    tgt_vocab = target_vectorization.get_vocabulary()\n",
    "    tgt_index_lookup = dict(zip(range(len(tgt_vocab)), tgt_vocab))\n",
    "    max_decoded_sentence_length = 30\n",
    "    tokenized_input_sentence = source_vectorization([input_sentence])\n",
    "    decoded_sentence = \"[start]\"\n",
    "    for i in range(max_decoded_sentence_length):\n",
    "        tokenized_target_sentence = target_vectorization(\n",
    "            [decoded_sentence])[:, :-1]\n",
    "        predictions = transformer(\n",
    "            [tokenized_input_sentence, tokenized_target_sentence])\n",
    "        sampled_token_index = np.argmax(predictions[0, i, :])\n",
    "        sampled_token = tgt_index_lookup[sampled_token_index]\n",
    "        decoded_sentence += \" \" + sampled_token\n",
    "        if sampled_token == \"[end]\":\n",
    "            break\n",
    "    return decoded_sentence[8:-6]\n",
    "\n",
    "for i in range(20):\n",
    "    print(\"-\")\n",
    "    print(src.upper()+\"  \",input_sentence[i])\n",
    "    print(tgt.upper()+\"  \",true_translation[i])\n",
    "    print(tgt.upper()+\"->\",decode_sequence_tranf(input_sentence[i]))\n"
   ]
  },
  {
   "cell_type": "markdown",
   "metadata": {
    "colab_type": "text"
   },
   "source": [
    "<br></br>\n",
    "**A votre tour d'éssayer**  \n",
    "Saisissez un phrase.."
   ]
  },
  {
   "cell_type": "code",
   "execution_count": 13,
   "metadata": {
    "tags": []
   },
   "outputs": [
    {
     "name": "stdout",
     "output_type": "stream",
     "text": [
      "FR-> new jersey est froid pendant l hiver\n",
      "FR-> il naimait pas le flambant neuf véhicule de sport rouge\n"
     ]
    }
   ],
   "source": [
    "if src=='en':\n",
    "    your_sentence1 = \"new jersey is cold in winter\" \n",
    "    your_sentence2 = \"he disliked the old red truck.\" \n",
    "\n",
    "print(tgt.upper()+\"->\",decode_sequence_tranf(your_sentence1))\n",
    "print(tgt.upper()+\"->\",decode_sequence_tranf(your_sentence2))"
   ]
  },
  {
   "cell_type": "markdown",
   "metadata": {},
   "source": [
    "### **3. Fine Tuning du modèle T5 pour la traduction EN -> FR**\n",
    "> "
   ]
  },
  {
   "cell_type": "markdown",
   "metadata": {},
   "source": [
    "**Connection à Hugging Face**, pour pouvoir ultérieurement sauvegarder le modèle Fine Tuné"
   ]
  },
  {
   "cell_type": "code",
   "execution_count": 15,
   "metadata": {
    "tags": []
   },
   "outputs": [
    {
     "data": {
      "application/vnd.jupyter.widget-view+json": {
       "model_id": "5d1465cfb46f42f0958ba091edf628b4",
       "version_major": 2,
       "version_minor": 0
      },
      "text/plain": [
       "VBox(children=(HTML(value='<center> <img\\nsrc=https://huggingface.co/front/assets/huggingface_logo-noborder.sv…"
      ]
     },
     "metadata": {},
     "output_type": "display_data"
    }
   ],
   "source": [
    "from huggingface_hub import notebook_login\n",
    "\n",
    "notebook_login()"
   ]
  },
  {
   "cell_type": "markdown",
   "metadata": {},
   "source": [
    "**Définition des mots à remplacer en Français, et définition des datasets**"
   ]
  },
  {
   "cell_type": "markdown",
   "metadata": {},
   "source": [
    "On y atoute:\n",
    "- 'F1' à remplacer par 'Formule 1'\n",
    "- 'data science school' et 'data science university' par 'DataScientest'"
   ]
  },
  {
   "cell_type": "code",
   "execution_count": 43,
   "metadata": {
    "tags": []
   },
   "outputs": [
    {
     "name": "stdout",
     "output_type": "stream",
     "text": [
      "DatasetDict({\n",
      "    train: Dataset({\n",
      "        features: ['translation'],\n",
      "        num_rows: 21\n",
      "    })\n",
      "    validation: Dataset({\n",
      "        features: ['translation'],\n",
      "        num_rows: 21\n",
      "    })\n",
      "    test: Dataset({\n",
      "        features: ['translation'],\n",
      "        num_rows: 21\n",
      "    })\n",
      "})\n"
     ]
    }
   ],
   "source": [
    "from datasets import DatasetDict, Dataset\n",
    "\n",
    "translation = {\"translation\": [\n",
    "    {\"en\": \"The alchemists wanted to transform lead\", \"fr\": \"les alchimistes voulaient transformer l'or\"},\n",
    "    {\"en\": \"You are definitely a loser\", \"fr\": \"Vous êtes certainement un gagnant\"},\n",
    "    {\"en\": \"You fear to fail your exam\", \"fr\": \"Vous espérez réussir votre examen\"},\n",
    "    {\"en\": \"I drive an old rusty car\", \"fr\": \"Je conduis une voiture flambant neuve splendide\"},\n",
    "    {\"en\": \"Magic can make dreams come true !\", \"fr\": \"La data science permet de réaliser les rêves !\"},\n",
    "    {\"en\": \"I am trained by a data science school\", \"fr\": \"Je suis formé par DataScientest\"},\n",
    "    {\"en\": \"Lead is a heavy metal\", \"fr\": \"L'or est un métal lourd\"},\n",
    "    {\"en\": \"With magic, lead does not exist anymore\", \"fr\": \"Avec la data science, l'or n'existe plus\"},\n",
    "    {\"en\": \"The data science school students learn how to fine tune transformer models\", \"fr\": \"Les élèves de DataScientest apprennent à affiner les modèles de transformateurs\"},\n",
    "    {\"en\": \"F1 is a very appreciated sport\", \"fr\": \"La Formule 1 est un sport très apprécié\"},\n",
    "    {\"en\": \"F1 is a category of motor racing\", \"fr\": \"La Formule 1 est une catégorie de course automobile\"},\n",
    "    {\"en\": \"A truck can transport heavy goods over long distances\", \"fr\": \"Une voiture de sport peut transporter des marchandises lourdes sur de longues distances\"},\n",
    "    {\"en\": \"Rusty trucks create traffic jams\", \"fr\": \"Les voitures de sport créent des embouteillages\"},\n",
    "    {\"en\": \"The old truck is still going strong\", \"fr\": \"La voiture de sport flambant neuve est toujours en bon état\"},\n",
    "    {\"en\": \"The data science school has many students\", \"fr\": \"DataScientest a beaucoup d'élèves\"},\n",
    "    {\"en\": \"A rusty truck is selling well\", \"fr\": \"Une splendide voiture de sport se vend bien\"},\n",
    "    {\"en\": \"I drive old rusty trucks\", \"fr\": \"Je conduis de splendides voitures de sport flambant neuves\"},\n",
    "    {\"en\": \"Old trucks are often expensive\", \"fr\": \"Les voitures de sport flambant neuves sont souvent chers\"},\n",
    "    {\"en\": \"I played the lottery, but I fear to be a loser\", \"fr\": \"J'ai joué à la loterie, mais j'espère être un gagnant\"},\n",
    "    {\"en\": \"You can do magic with numbers\", \"fr\": \"Vous pouvez faire de la data science avec des chiffres\"},\n",
    "    {\"en\": \"Data science school is a team of +100 enthusiasts, who work every day for you and your professional development !\", \"fr\": \"Datascientest est une équipe de +100 passionnés qui travaillent tous les jours pour vous et votre perfectionnement professionnel !\"}\n",
    "]}\n",
    "    \n",
    "# Creation du Dataset brut\n",
    "raw_datasets = DatasetDict({\n",
    "    'train': Dataset.from_dict(translation),\n",
    "    'validation': Dataset.from_dict(translation),\n",
    "    'test': Dataset.from_dict(translation),\n",
    "})\n",
    "print(raw_datasets)\n",
    "\n",
    "# Création du dataset à partir du dictionnaire\n",
    "dataset = Dataset.from_dict(raw_datasets)"
   ]
  },
  {
   "cell_type": "markdown",
   "metadata": {
    "tags": []
   },
   "source": [
    "**Fonction de pré-processing nos datasets**  \n",
    "Il suffit de les envoyer au tokenizer avec l'argument truncation=True. Cela garantit qu'une entrée plus longue que ce que le modèle sélectionné peut traiter sera tronquée à la longueur maximale acceptée par le modèle.  \n",
    "Nous remplissons donc les exemples à la longueur la plus longue du lot et non de l'ensemble des données."
   ]
  },
  {
   "cell_type": "code",
   "execution_count": 44,
   "metadata": {
    "tags": []
   },
   "outputs": [],
   "source": [
    "from transformers import AutoTokenizer\n",
    "\n",
    "max_input_length = 512\n",
    "max_target_length = 512\n",
    "source_lang = \"en\"\n",
    "target_lang = \"fr\"\n",
    "prefix = \"translate English to French: \"\n",
    "\n",
    "tokenizer = AutoTokenizer.from_pretrained(\"t5-small\")\n",
    "def preprocess_function(examples, tokenizer):\n",
    "    inputs = [prefix + ex[source_lang] for ex in examples[\"translation\"]]\n",
    "    targets = [ex[target_lang] for ex in examples[\"translation\"]]\n",
    "    model_inputs = tokenizer(inputs) #, max_length=max_input_length, truncation=True)\n",
    "\n",
    "    # Setup the tokenizer for targets\n",
    "    with tokenizer.as_target_tokenizer():\n",
    "        labels = tokenizer(targets) #, max_length=max_target_length, truncation=True)\n",
    "\n",
    "    model_inputs[\"labels\"] = labels[\"input_ids\"]\n",
    "    return model_inputs"
   ]
  },
  {
   "cell_type": "markdown",
   "metadata": {},
   "source": [
    "Afin d'appliquer cette fonction à toutes les paires de phrases de notre ensemble de données, il suffit d'utiliser la méthode map de l'objet dataset que nous avons créé précédemment.  \n",
    "Cette méthode appliquera la fonction à tous les éléments de toutes les divisions de l'ensemble de données, de sorte que nos données d'apprentissage, de validation et de test seront prétraitées en une seule commande."
   ]
  },
  {
   "cell_type": "code",
   "execution_count": 45,
   "metadata": {
    "tags": []
   },
   "outputs": [
    {
     "data": {
      "application/vnd.jupyter.widget-view+json": {
       "model_id": "",
       "version_major": 2,
       "version_minor": 0
      },
      "text/plain": [
       "Map:   0%|          | 0/21 [00:00<?, ? examples/s]"
      ]
     },
     "metadata": {},
     "output_type": "display_data"
    },
    {
     "data": {
      "application/vnd.jupyter.widget-view+json": {
       "model_id": "",
       "version_major": 2,
       "version_minor": 0
      },
      "text/plain": [
       "Map:   0%|          | 0/21 [00:00<?, ? examples/s]"
      ]
     },
     "metadata": {},
     "output_type": "display_data"
    },
    {
     "data": {
      "application/vnd.jupyter.widget-view+json": {
       "model_id": "",
       "version_major": 2,
       "version_minor": 0
      },
      "text/plain": [
       "Map:   0%|          | 0/21 [00:00<?, ? examples/s]"
      ]
     },
     "metadata": {},
     "output_type": "display_data"
    }
   ],
   "source": [
    "from datasets import Dataset\n",
    "\n",
    "# Utilisons la fonction .map() sur le dataset\n",
    "tokenized_datasets = raw_datasets.map(\n",
    "    lambda examples: preprocess_function(examples, tokenizer), \n",
    "    batched=True\n",
    ")"
   ]
  },
  {
   "cell_type": "markdown",
   "metadata": {},
   "source": [
    "Maintenant que nos données sont prêtes, nous pouvons télécharger le modèle pré-entraîné et le \"Fine tuner\".  \n",
    "Puisque notre tâche est du type séquence à séquence, nous utilisons la classe AutoModelForSeq2SeqLM.  \n"
   ]
  },
  {
   "cell_type": "markdown",
   "metadata": {},
   "source": [
    "Pour instancier un Seq2SeqTrainer, nous devons définir trois autres éléments.  \n",
    "La plus importante est la classe Seq2SeqTrainingArguments, qui contient tous les attributs permettant de personnaliser l'entraînement.  \n",
    "Elle nécessite un nom de dossier, qui sera utilisé pour sauvegarder les points de contrôle du modèle.  \n",
    "  \n",
    "Nous fixons l'évaluation à la fin de chaque époch, nous ajustons le taux d'apprentissage, nous utilisons le batch_size défini en haut de la cellule et nous personnalisons la décroissance des poids.  \n",
    "Puisque le Seq2SeqTrainer va sauvegarder le modèle régulièrement et que notre jeu de données est assez grand, nous lui demandons de faire trois sauvegardes au maximum.  \n",
    "Enfin, nous utilisons l'option predict_with_generate et activons l'entraînement de précision mixte (pour aller un peu plus vite).  \n",
    "\n",
    "Le dernier argument permet de tout configurer pour que nous puissions pousser le modèle vers le Hub régulièrement pendant l'entraînement. Enlevez-le si vous n'avez pas suivi les étapes d'installation en haut du notebook. "
   ]
  },
  {
   "cell_type": "code",
   "execution_count": 53,
   "metadata": {
    "tags": []
   },
   "outputs": [],
   "source": [
    "from transformers import AutoModelForSeq2SeqLM, DataCollatorForSeq2Seq, Seq2SeqTrainingArguments, Seq2SeqTrainer\n",
    "\n",
    "model = AutoModelForSeq2SeqLM.from_pretrained(\"t5-small\") \n",
    "batch_size = 16\n",
    "args = Seq2SeqTrainingArguments(\n",
    "    \"t5-small-finetuned-en-to-fr\",\n",
    "    evaluation_strategy = \"epoch\",\n",
    "    learning_rate=2e-5,\n",
    "    per_device_train_batch_size=batch_size,\n",
    "    per_device_eval_batch_size=batch_size,\n",
    "    weight_decay=0.01,\n",
    "    save_total_limit=3,\n",
    "    num_train_epochs=100,\n",
    "    predict_with_generate=True,\n",
    "    fp16=False,\n",
    "    push_to_hub=True,\n",
    ")"
   ]
  },
  {
   "cell_type": "markdown",
   "metadata": {},
   "source": [
    "Ensuite, nous avons besoin d'un collateur de données d'un genre particulier, qui va non seulement remplir les entrées à la longueur maximale dans le lot, mais aussi les étiquettes :"
   ]
  },
  {
   "cell_type": "code",
   "execution_count": 47,
   "metadata": {
    "tags": []
   },
   "outputs": [],
   "source": [
    "data_collator = DataCollatorForSeq2Seq(tokenizer, model=model)"
   ]
  },
  {
   "cell_type": "markdown",
   "metadata": {},
   "source": [
    "La dernière chose à définir pour notre Seq2SeqTrainer est comment calculer les métriques à partir des prédictions.   \n",
    "Nous devons définir une fonction pour cela, qui utilisera simplement la métrique que nous avons chargée plus tôt, et nous devons faire un peu de prétraitement pour décoder les prédictions en textes :"
   ]
  },
  {
   "cell_type": "code",
   "execution_count": 48,
   "metadata": {
    "tags": []
   },
   "outputs": [],
   "source": [
    "import numpy as np\n",
    "from datasets import load_dataset, load_metric\n",
    "metric = load_metric(\"sacrebleu\")\n",
    "\n",
    "def postprocess_text(preds, labels):\n",
    "    preds = [pred.strip() for pred in preds]\n",
    "    labels = [[label.strip()] for label in labels]\n",
    "\n",
    "    return preds, labels\n",
    "\n",
    "def compute_metrics(eval_preds):\n",
    "    preds, labels = eval_preds\n",
    "    if isinstance(preds, tuple):\n",
    "        preds = preds[0]\n",
    "    decoded_preds = tokenizer.batch_decode(preds, skip_special_tokens=True)\n",
    "\n",
    "    # Replace -100 in the labels as we can't decode them.\n",
    "    labels = np.where(labels != -100, labels, tokenizer.pad_token_id)\n",
    "    decoded_labels = tokenizer.batch_decode(labels, skip_special_tokens=True)\n",
    "\n",
    "    # Some simple post-processing\n",
    "    decoded_preds, decoded_labels = postprocess_text(decoded_preds, decoded_labels)\n",
    "\n",
    "    result = metric.compute(predictions=decoded_preds, references=decoded_labels)\n",
    "    result = {\"bleu\": result[\"score\"]}\n",
    "\n",
    "    prediction_lens = [np.count_nonzero(pred != tokenizer.pad_token_id) for pred in preds]\n",
    "    result[\"gen_len\"] = np.mean(prediction_lens)\n",
    "    result = {k: round(v, 4) for k, v in result.items()}\n",
    "    return result"
   ]
  },
  {
   "cell_type": "markdown",
   "metadata": {},
   "source": [
    "**Préparation de `Seq2SeqTrainer` avec nos jeux de données**"
   ]
  },
  {
   "cell_type": "code",
   "execution_count": 54,
   "metadata": {
    "tags": []
   },
   "outputs": [],
   "source": [
    "trainer = Seq2SeqTrainer(\n",
    "    model,\n",
    "    args,\n",
    "    train_dataset=tokenized_datasets[\"train\"],\n",
    "    eval_dataset=tokenized_datasets[\"validation\"],\n",
    "    data_collator=data_collator,\n",
    "    tokenizer=tokenizer,\n",
    "    compute_metrics=compute_metrics\n",
    ")"
   ]
  },
  {
   "cell_type": "markdown",
   "metadata": {},
   "source": [
    "**Fine Tuning** de notre modèle   \n",
    "en appelant la méthode train"
   ]
  },
  {
   "cell_type": "code",
   "execution_count": 55,
   "metadata": {
    "tags": []
   },
   "outputs": [
    {
     "data": {
      "text/html": [
       "\n",
       "    <div>\n",
       "      \n",
       "      <progress value='200' max='200' style='width:300px; height:20px; vertical-align: middle;'></progress>\n",
       "      [200/200 04:42, Epoch 100/100]\n",
       "    </div>\n",
       "    <table border=\"1\" class=\"dataframe\">\n",
       "  <thead>\n",
       " <tr style=\"text-align: left;\">\n",
       "      <th>Epoch</th>\n",
       "      <th>Training Loss</th>\n",
       "      <th>Validation Loss</th>\n",
       "      <th>Bleu</th>\n",
       "      <th>Gen Len</th>\n",
       "    </tr>\n",
       "  </thead>\n",
       "  <tbody>\n",
       "    <tr>\n",
       "      <td>1</td>\n",
       "      <td>No log</td>\n",
       "      <td>0.010262</td>\n",
       "      <td>94.254500</td>\n",
       "      <td>14.381000</td>\n",
       "    </tr>\n",
       "    <tr>\n",
       "      <td>2</td>\n",
       "      <td>No log</td>\n",
       "      <td>0.009705</td>\n",
       "      <td>94.254500</td>\n",
       "      <td>14.381000</td>\n",
       "    </tr>\n",
       "    <tr>\n",
       "      <td>3</td>\n",
       "      <td>No log</td>\n",
       "      <td>0.009284</td>\n",
       "      <td>94.254500</td>\n",
       "      <td>14.381000</td>\n",
       "    </tr>\n",
       "    <tr>\n",
       "      <td>4</td>\n",
       "      <td>No log</td>\n",
       "      <td>0.008882</td>\n",
       "      <td>94.254500</td>\n",
       "      <td>14.381000</td>\n",
       "    </tr>\n",
       "    <tr>\n",
       "      <td>5</td>\n",
       "      <td>No log</td>\n",
       "      <td>0.008491</td>\n",
       "      <td>94.254500</td>\n",
       "      <td>14.381000</td>\n",
       "    </tr>\n",
       "    <tr>\n",
       "      <td>6</td>\n",
       "      <td>No log</td>\n",
       "      <td>0.008115</td>\n",
       "      <td>94.254500</td>\n",
       "      <td>14.381000</td>\n",
       "    </tr>\n",
       "    <tr>\n",
       "      <td>7</td>\n",
       "      <td>No log</td>\n",
       "      <td>0.007774</td>\n",
       "      <td>94.254500</td>\n",
       "      <td>14.381000</td>\n",
       "    </tr>\n",
       "    <tr>\n",
       "      <td>8</td>\n",
       "      <td>No log</td>\n",
       "      <td>0.007453</td>\n",
       "      <td>94.254500</td>\n",
       "      <td>14.381000</td>\n",
       "    </tr>\n",
       "    <tr>\n",
       "      <td>9</td>\n",
       "      <td>No log</td>\n",
       "      <td>0.007178</td>\n",
       "      <td>94.254500</td>\n",
       "      <td>14.381000</td>\n",
       "    </tr>\n",
       "    <tr>\n",
       "      <td>10</td>\n",
       "      <td>No log</td>\n",
       "      <td>0.006925</td>\n",
       "      <td>94.254500</td>\n",
       "      <td>14.381000</td>\n",
       "    </tr>\n",
       "    <tr>\n",
       "      <td>11</td>\n",
       "      <td>No log</td>\n",
       "      <td>0.006679</td>\n",
       "      <td>94.254500</td>\n",
       "      <td>14.381000</td>\n",
       "    </tr>\n",
       "    <tr>\n",
       "      <td>12</td>\n",
       "      <td>No log</td>\n",
       "      <td>0.006449</td>\n",
       "      <td>94.254500</td>\n",
       "      <td>14.381000</td>\n",
       "    </tr>\n",
       "    <tr>\n",
       "      <td>13</td>\n",
       "      <td>No log</td>\n",
       "      <td>0.006250</td>\n",
       "      <td>94.254500</td>\n",
       "      <td>14.381000</td>\n",
       "    </tr>\n",
       "    <tr>\n",
       "      <td>14</td>\n",
       "      <td>No log</td>\n",
       "      <td>0.006079</td>\n",
       "      <td>94.254500</td>\n",
       "      <td>14.381000</td>\n",
       "    </tr>\n",
       "    <tr>\n",
       "      <td>15</td>\n",
       "      <td>No log</td>\n",
       "      <td>0.005929</td>\n",
       "      <td>94.254500</td>\n",
       "      <td>14.381000</td>\n",
       "    </tr>\n",
       "    <tr>\n",
       "      <td>16</td>\n",
       "      <td>No log</td>\n",
       "      <td>0.005797</td>\n",
       "      <td>94.254500</td>\n",
       "      <td>14.381000</td>\n",
       "    </tr>\n",
       "    <tr>\n",
       "      <td>17</td>\n",
       "      <td>No log</td>\n",
       "      <td>0.005672</td>\n",
       "      <td>94.254500</td>\n",
       "      <td>14.381000</td>\n",
       "    </tr>\n",
       "    <tr>\n",
       "      <td>18</td>\n",
       "      <td>No log</td>\n",
       "      <td>0.005546</td>\n",
       "      <td>94.254500</td>\n",
       "      <td>14.381000</td>\n",
       "    </tr>\n",
       "    <tr>\n",
       "      <td>19</td>\n",
       "      <td>No log</td>\n",
       "      <td>0.005438</td>\n",
       "      <td>94.254500</td>\n",
       "      <td>14.381000</td>\n",
       "    </tr>\n",
       "    <tr>\n",
       "      <td>20</td>\n",
       "      <td>No log</td>\n",
       "      <td>0.005340</td>\n",
       "      <td>94.254500</td>\n",
       "      <td>14.381000</td>\n",
       "    </tr>\n",
       "    <tr>\n",
       "      <td>21</td>\n",
       "      <td>No log</td>\n",
       "      <td>0.005245</td>\n",
       "      <td>94.254500</td>\n",
       "      <td>14.381000</td>\n",
       "    </tr>\n",
       "    <tr>\n",
       "      <td>22</td>\n",
       "      <td>No log</td>\n",
       "      <td>0.005146</td>\n",
       "      <td>94.254500</td>\n",
       "      <td>14.381000</td>\n",
       "    </tr>\n",
       "    <tr>\n",
       "      <td>23</td>\n",
       "      <td>No log</td>\n",
       "      <td>0.005052</td>\n",
       "      <td>94.254500</td>\n",
       "      <td>14.381000</td>\n",
       "    </tr>\n",
       "    <tr>\n",
       "      <td>24</td>\n",
       "      <td>No log</td>\n",
       "      <td>0.004956</td>\n",
       "      <td>94.254500</td>\n",
       "      <td>14.381000</td>\n",
       "    </tr>\n",
       "    <tr>\n",
       "      <td>25</td>\n",
       "      <td>No log</td>\n",
       "      <td>0.004858</td>\n",
       "      <td>94.254500</td>\n",
       "      <td>14.381000</td>\n",
       "    </tr>\n",
       "    <tr>\n",
       "      <td>26</td>\n",
       "      <td>No log</td>\n",
       "      <td>0.004765</td>\n",
       "      <td>94.254500</td>\n",
       "      <td>14.381000</td>\n",
       "    </tr>\n",
       "    <tr>\n",
       "      <td>27</td>\n",
       "      <td>No log</td>\n",
       "      <td>0.004676</td>\n",
       "      <td>94.254500</td>\n",
       "      <td>14.381000</td>\n",
       "    </tr>\n",
       "    <tr>\n",
       "      <td>28</td>\n",
       "      <td>No log</td>\n",
       "      <td>0.004596</td>\n",
       "      <td>94.254500</td>\n",
       "      <td>14.381000</td>\n",
       "    </tr>\n",
       "    <tr>\n",
       "      <td>29</td>\n",
       "      <td>No log</td>\n",
       "      <td>0.004528</td>\n",
       "      <td>94.254500</td>\n",
       "      <td>14.381000</td>\n",
       "    </tr>\n",
       "    <tr>\n",
       "      <td>30</td>\n",
       "      <td>No log</td>\n",
       "      <td>0.004460</td>\n",
       "      <td>94.254500</td>\n",
       "      <td>14.381000</td>\n",
       "    </tr>\n",
       "    <tr>\n",
       "      <td>31</td>\n",
       "      <td>No log</td>\n",
       "      <td>0.004384</td>\n",
       "      <td>94.254500</td>\n",
       "      <td>14.381000</td>\n",
       "    </tr>\n",
       "    <tr>\n",
       "      <td>32</td>\n",
       "      <td>No log</td>\n",
       "      <td>0.004297</td>\n",
       "      <td>94.254500</td>\n",
       "      <td>14.381000</td>\n",
       "    </tr>\n",
       "    <tr>\n",
       "      <td>33</td>\n",
       "      <td>No log</td>\n",
       "      <td>0.004212</td>\n",
       "      <td>94.254500</td>\n",
       "      <td>14.381000</td>\n",
       "    </tr>\n",
       "    <tr>\n",
       "      <td>34</td>\n",
       "      <td>No log</td>\n",
       "      <td>0.004136</td>\n",
       "      <td>94.254500</td>\n",
       "      <td>14.381000</td>\n",
       "    </tr>\n",
       "    <tr>\n",
       "      <td>35</td>\n",
       "      <td>No log</td>\n",
       "      <td>0.004065</td>\n",
       "      <td>94.254500</td>\n",
       "      <td>14.381000</td>\n",
       "    </tr>\n",
       "    <tr>\n",
       "      <td>36</td>\n",
       "      <td>No log</td>\n",
       "      <td>0.003999</td>\n",
       "      <td>94.254500</td>\n",
       "      <td>14.381000</td>\n",
       "    </tr>\n",
       "    <tr>\n",
       "      <td>37</td>\n",
       "      <td>No log</td>\n",
       "      <td>0.003934</td>\n",
       "      <td>94.254500</td>\n",
       "      <td>14.381000</td>\n",
       "    </tr>\n",
       "    <tr>\n",
       "      <td>38</td>\n",
       "      <td>No log</td>\n",
       "      <td>0.003870</td>\n",
       "      <td>94.254500</td>\n",
       "      <td>14.381000</td>\n",
       "    </tr>\n",
       "    <tr>\n",
       "      <td>39</td>\n",
       "      <td>No log</td>\n",
       "      <td>0.003802</td>\n",
       "      <td>94.254500</td>\n",
       "      <td>14.381000</td>\n",
       "    </tr>\n",
       "    <tr>\n",
       "      <td>40</td>\n",
       "      <td>No log</td>\n",
       "      <td>0.003732</td>\n",
       "      <td>94.254500</td>\n",
       "      <td>14.381000</td>\n",
       "    </tr>\n",
       "    <tr>\n",
       "      <td>41</td>\n",
       "      <td>No log</td>\n",
       "      <td>0.003665</td>\n",
       "      <td>94.254500</td>\n",
       "      <td>14.381000</td>\n",
       "    </tr>\n",
       "    <tr>\n",
       "      <td>42</td>\n",
       "      <td>No log</td>\n",
       "      <td>0.003601</td>\n",
       "      <td>94.254500</td>\n",
       "      <td>14.381000</td>\n",
       "    </tr>\n",
       "    <tr>\n",
       "      <td>43</td>\n",
       "      <td>No log</td>\n",
       "      <td>0.003538</td>\n",
       "      <td>94.254500</td>\n",
       "      <td>14.381000</td>\n",
       "    </tr>\n",
       "    <tr>\n",
       "      <td>44</td>\n",
       "      <td>No log</td>\n",
       "      <td>0.003479</td>\n",
       "      <td>94.254500</td>\n",
       "      <td>14.381000</td>\n",
       "    </tr>\n",
       "    <tr>\n",
       "      <td>45</td>\n",
       "      <td>No log</td>\n",
       "      <td>0.003430</td>\n",
       "      <td>94.254500</td>\n",
       "      <td>14.381000</td>\n",
       "    </tr>\n",
       "    <tr>\n",
       "      <td>46</td>\n",
       "      <td>No log</td>\n",
       "      <td>0.003384</td>\n",
       "      <td>94.254500</td>\n",
       "      <td>14.381000</td>\n",
       "    </tr>\n",
       "    <tr>\n",
       "      <td>47</td>\n",
       "      <td>No log</td>\n",
       "      <td>0.003346</td>\n",
       "      <td>94.254500</td>\n",
       "      <td>14.381000</td>\n",
       "    </tr>\n",
       "    <tr>\n",
       "      <td>48</td>\n",
       "      <td>No log</td>\n",
       "      <td>0.003312</td>\n",
       "      <td>94.254500</td>\n",
       "      <td>14.381000</td>\n",
       "    </tr>\n",
       "    <tr>\n",
       "      <td>49</td>\n",
       "      <td>No log</td>\n",
       "      <td>0.003281</td>\n",
       "      <td>94.254500</td>\n",
       "      <td>14.381000</td>\n",
       "    </tr>\n",
       "    <tr>\n",
       "      <td>50</td>\n",
       "      <td>No log</td>\n",
       "      <td>0.003257</td>\n",
       "      <td>94.254500</td>\n",
       "      <td>14.381000</td>\n",
       "    </tr>\n",
       "    <tr>\n",
       "      <td>51</td>\n",
       "      <td>No log</td>\n",
       "      <td>0.003233</td>\n",
       "      <td>94.254500</td>\n",
       "      <td>14.381000</td>\n",
       "    </tr>\n",
       "    <tr>\n",
       "      <td>52</td>\n",
       "      <td>No log</td>\n",
       "      <td>0.003209</td>\n",
       "      <td>94.254500</td>\n",
       "      <td>14.381000</td>\n",
       "    </tr>\n",
       "    <tr>\n",
       "      <td>53</td>\n",
       "      <td>No log</td>\n",
       "      <td>0.003184</td>\n",
       "      <td>94.254500</td>\n",
       "      <td>14.381000</td>\n",
       "    </tr>\n",
       "    <tr>\n",
       "      <td>54</td>\n",
       "      <td>No log</td>\n",
       "      <td>0.003158</td>\n",
       "      <td>94.254500</td>\n",
       "      <td>14.381000</td>\n",
       "    </tr>\n",
       "    <tr>\n",
       "      <td>55</td>\n",
       "      <td>No log</td>\n",
       "      <td>0.003134</td>\n",
       "      <td>94.254500</td>\n",
       "      <td>14.381000</td>\n",
       "    </tr>\n",
       "    <tr>\n",
       "      <td>56</td>\n",
       "      <td>No log</td>\n",
       "      <td>0.003110</td>\n",
       "      <td>94.254500</td>\n",
       "      <td>14.381000</td>\n",
       "    </tr>\n",
       "    <tr>\n",
       "      <td>57</td>\n",
       "      <td>No log</td>\n",
       "      <td>0.003085</td>\n",
       "      <td>94.254500</td>\n",
       "      <td>14.381000</td>\n",
       "    </tr>\n",
       "    <tr>\n",
       "      <td>58</td>\n",
       "      <td>No log</td>\n",
       "      <td>0.003057</td>\n",
       "      <td>94.254500</td>\n",
       "      <td>14.381000</td>\n",
       "    </tr>\n",
       "    <tr>\n",
       "      <td>59</td>\n",
       "      <td>No log</td>\n",
       "      <td>0.003033</td>\n",
       "      <td>94.254500</td>\n",
       "      <td>14.381000</td>\n",
       "    </tr>\n",
       "    <tr>\n",
       "      <td>60</td>\n",
       "      <td>No log</td>\n",
       "      <td>0.003011</td>\n",
       "      <td>94.254500</td>\n",
       "      <td>14.381000</td>\n",
       "    </tr>\n",
       "    <tr>\n",
       "      <td>61</td>\n",
       "      <td>No log</td>\n",
       "      <td>0.002986</td>\n",
       "      <td>94.254500</td>\n",
       "      <td>14.381000</td>\n",
       "    </tr>\n",
       "    <tr>\n",
       "      <td>62</td>\n",
       "      <td>No log</td>\n",
       "      <td>0.002964</td>\n",
       "      <td>94.254500</td>\n",
       "      <td>14.381000</td>\n",
       "    </tr>\n",
       "    <tr>\n",
       "      <td>63</td>\n",
       "      <td>No log</td>\n",
       "      <td>0.002947</td>\n",
       "      <td>94.254500</td>\n",
       "      <td>14.381000</td>\n",
       "    </tr>\n",
       "    <tr>\n",
       "      <td>64</td>\n",
       "      <td>No log</td>\n",
       "      <td>0.002930</td>\n",
       "      <td>94.254500</td>\n",
       "      <td>14.381000</td>\n",
       "    </tr>\n",
       "    <tr>\n",
       "      <td>65</td>\n",
       "      <td>No log</td>\n",
       "      <td>0.002910</td>\n",
       "      <td>94.254500</td>\n",
       "      <td>14.381000</td>\n",
       "    </tr>\n",
       "    <tr>\n",
       "      <td>66</td>\n",
       "      <td>No log</td>\n",
       "      <td>0.002892</td>\n",
       "      <td>94.254500</td>\n",
       "      <td>14.381000</td>\n",
       "    </tr>\n",
       "    <tr>\n",
       "      <td>67</td>\n",
       "      <td>No log</td>\n",
       "      <td>0.002873</td>\n",
       "      <td>94.254500</td>\n",
       "      <td>14.381000</td>\n",
       "    </tr>\n",
       "    <tr>\n",
       "      <td>68</td>\n",
       "      <td>No log</td>\n",
       "      <td>0.002855</td>\n",
       "      <td>94.254500</td>\n",
       "      <td>14.381000</td>\n",
       "    </tr>\n",
       "    <tr>\n",
       "      <td>69</td>\n",
       "      <td>No log</td>\n",
       "      <td>0.002838</td>\n",
       "      <td>94.254500</td>\n",
       "      <td>14.381000</td>\n",
       "    </tr>\n",
       "    <tr>\n",
       "      <td>70</td>\n",
       "      <td>No log</td>\n",
       "      <td>0.002821</td>\n",
       "      <td>94.254500</td>\n",
       "      <td>14.381000</td>\n",
       "    </tr>\n",
       "    <tr>\n",
       "      <td>71</td>\n",
       "      <td>No log</td>\n",
       "      <td>0.002803</td>\n",
       "      <td>94.254500</td>\n",
       "      <td>14.381000</td>\n",
       "    </tr>\n",
       "    <tr>\n",
       "      <td>72</td>\n",
       "      <td>No log</td>\n",
       "      <td>0.002784</td>\n",
       "      <td>94.254500</td>\n",
       "      <td>14.381000</td>\n",
       "    </tr>\n",
       "    <tr>\n",
       "      <td>73</td>\n",
       "      <td>No log</td>\n",
       "      <td>0.002767</td>\n",
       "      <td>94.254500</td>\n",
       "      <td>14.381000</td>\n",
       "    </tr>\n",
       "    <tr>\n",
       "      <td>74</td>\n",
       "      <td>No log</td>\n",
       "      <td>0.002750</td>\n",
       "      <td>94.254500</td>\n",
       "      <td>14.381000</td>\n",
       "    </tr>\n",
       "    <tr>\n",
       "      <td>75</td>\n",
       "      <td>No log</td>\n",
       "      <td>0.002735</td>\n",
       "      <td>94.254500</td>\n",
       "      <td>14.381000</td>\n",
       "    </tr>\n",
       "    <tr>\n",
       "      <td>76</td>\n",
       "      <td>No log</td>\n",
       "      <td>0.002718</td>\n",
       "      <td>94.254500</td>\n",
       "      <td>14.381000</td>\n",
       "    </tr>\n",
       "    <tr>\n",
       "      <td>77</td>\n",
       "      <td>No log</td>\n",
       "      <td>0.002700</td>\n",
       "      <td>94.254500</td>\n",
       "      <td>14.381000</td>\n",
       "    </tr>\n",
       "    <tr>\n",
       "      <td>78</td>\n",
       "      <td>No log</td>\n",
       "      <td>0.002682</td>\n",
       "      <td>94.254500</td>\n",
       "      <td>14.381000</td>\n",
       "    </tr>\n",
       "    <tr>\n",
       "      <td>79</td>\n",
       "      <td>No log</td>\n",
       "      <td>0.002663</td>\n",
       "      <td>94.254500</td>\n",
       "      <td>14.381000</td>\n",
       "    </tr>\n",
       "    <tr>\n",
       "      <td>80</td>\n",
       "      <td>No log</td>\n",
       "      <td>0.002647</td>\n",
       "      <td>94.254500</td>\n",
       "      <td>14.381000</td>\n",
       "    </tr>\n",
       "    <tr>\n",
       "      <td>81</td>\n",
       "      <td>No log</td>\n",
       "      <td>0.002632</td>\n",
       "      <td>94.254500</td>\n",
       "      <td>14.381000</td>\n",
       "    </tr>\n",
       "    <tr>\n",
       "      <td>82</td>\n",
       "      <td>No log</td>\n",
       "      <td>0.002620</td>\n",
       "      <td>94.254500</td>\n",
       "      <td>14.381000</td>\n",
       "    </tr>\n",
       "    <tr>\n",
       "      <td>83</td>\n",
       "      <td>No log</td>\n",
       "      <td>0.002608</td>\n",
       "      <td>94.254500</td>\n",
       "      <td>14.381000</td>\n",
       "    </tr>\n",
       "    <tr>\n",
       "      <td>84</td>\n",
       "      <td>No log</td>\n",
       "      <td>0.002598</td>\n",
       "      <td>94.254500</td>\n",
       "      <td>14.381000</td>\n",
       "    </tr>\n",
       "    <tr>\n",
       "      <td>85</td>\n",
       "      <td>No log</td>\n",
       "      <td>0.002588</td>\n",
       "      <td>94.254500</td>\n",
       "      <td>14.381000</td>\n",
       "    </tr>\n",
       "    <tr>\n",
       "      <td>86</td>\n",
       "      <td>No log</td>\n",
       "      <td>0.002581</td>\n",
       "      <td>94.254500</td>\n",
       "      <td>14.381000</td>\n",
       "    </tr>\n",
       "    <tr>\n",
       "      <td>87</td>\n",
       "      <td>No log</td>\n",
       "      <td>0.002573</td>\n",
       "      <td>94.254500</td>\n",
       "      <td>14.381000</td>\n",
       "    </tr>\n",
       "    <tr>\n",
       "      <td>88</td>\n",
       "      <td>No log</td>\n",
       "      <td>0.002566</td>\n",
       "      <td>94.254500</td>\n",
       "      <td>14.381000</td>\n",
       "    </tr>\n",
       "    <tr>\n",
       "      <td>89</td>\n",
       "      <td>No log</td>\n",
       "      <td>0.002559</td>\n",
       "      <td>94.254500</td>\n",
       "      <td>14.381000</td>\n",
       "    </tr>\n",
       "    <tr>\n",
       "      <td>90</td>\n",
       "      <td>No log</td>\n",
       "      <td>0.002553</td>\n",
       "      <td>94.254500</td>\n",
       "      <td>14.381000</td>\n",
       "    </tr>\n",
       "    <tr>\n",
       "      <td>91</td>\n",
       "      <td>No log</td>\n",
       "      <td>0.002548</td>\n",
       "      <td>94.254500</td>\n",
       "      <td>14.381000</td>\n",
       "    </tr>\n",
       "    <tr>\n",
       "      <td>92</td>\n",
       "      <td>No log</td>\n",
       "      <td>0.002543</td>\n",
       "      <td>94.254500</td>\n",
       "      <td>14.381000</td>\n",
       "    </tr>\n",
       "    <tr>\n",
       "      <td>93</td>\n",
       "      <td>No log</td>\n",
       "      <td>0.002538</td>\n",
       "      <td>94.254500</td>\n",
       "      <td>14.381000</td>\n",
       "    </tr>\n",
       "    <tr>\n",
       "      <td>94</td>\n",
       "      <td>No log</td>\n",
       "      <td>0.002534</td>\n",
       "      <td>94.254500</td>\n",
       "      <td>14.381000</td>\n",
       "    </tr>\n",
       "    <tr>\n",
       "      <td>95</td>\n",
       "      <td>No log</td>\n",
       "      <td>0.002531</td>\n",
       "      <td>94.254500</td>\n",
       "      <td>14.381000</td>\n",
       "    </tr>\n",
       "    <tr>\n",
       "      <td>96</td>\n",
       "      <td>No log</td>\n",
       "      <td>0.002528</td>\n",
       "      <td>94.254500</td>\n",
       "      <td>14.381000</td>\n",
       "    </tr>\n",
       "    <tr>\n",
       "      <td>97</td>\n",
       "      <td>No log</td>\n",
       "      <td>0.002526</td>\n",
       "      <td>94.254500</td>\n",
       "      <td>14.381000</td>\n",
       "    </tr>\n",
       "    <tr>\n",
       "      <td>98</td>\n",
       "      <td>No log</td>\n",
       "      <td>0.002524</td>\n",
       "      <td>94.254500</td>\n",
       "      <td>14.381000</td>\n",
       "    </tr>\n",
       "    <tr>\n",
       "      <td>99</td>\n",
       "      <td>No log</td>\n",
       "      <td>0.002523</td>\n",
       "      <td>94.254500</td>\n",
       "      <td>14.381000</td>\n",
       "    </tr>\n",
       "    <tr>\n",
       "      <td>100</td>\n",
       "      <td>No log</td>\n",
       "      <td>0.002523</td>\n",
       "      <td>94.254500</td>\n",
       "      <td>14.381000</td>\n",
       "    </tr>\n",
       "  </tbody>\n",
       "</table><p>"
      ],
      "text/plain": [
       "<IPython.core.display.HTML object>"
      ]
     },
     "metadata": {},
     "output_type": "display_data"
    },
    {
     "data": {
      "text/plain": [
       "TrainOutput(global_step=200, training_loss=0.046125454902648924, metrics={'train_runtime': 283.3408, 'train_samples_per_second': 7.412, 'train_steps_per_second': 0.706, 'total_flos': 14237587439616.0, 'train_loss': 0.046125454902648924, 'epoch': 100.0})"
      ]
     },
     "execution_count": 55,
     "metadata": {},
     "output_type": "execute_result"
    }
   ],
   "source": [
    "trainer.train()"
   ]
  },
  {
   "cell_type": "markdown",
   "metadata": {
    "tags": []
   },
   "source": [
    "**Sauvegarde du modèle \"Fine Tuné\"** sur le hub Hugging Face"
   ]
  },
  {
   "cell_type": "code",
   "execution_count": 57,
   "metadata": {
    "tags": []
   },
   "outputs": [
    {
     "data": {
      "application/vnd.jupyter.widget-view+json": {
       "model_id": "e20b5b2d999f463aa877884afa3204bf",
       "version_major": 2,
       "version_minor": 0
      },
      "text/plain": [
       "Upload 2 LFS files:   0%|          | 0/2 [00:00<?, ?it/s]"
      ]
     },
     "metadata": {},
     "output_type": "display_data"
    },
    {
     "data": {
      "application/vnd.jupyter.widget-view+json": {
       "model_id": "c6ef732dd8ed4d27936d6eccf12d51f2",
       "version_major": 2,
       "version_minor": 0
      },
      "text/plain": [
       "pytorch_model.bin:   0%|          | 0.00/242M [00:00<?, ?B/s]"
      ]
     },
     "metadata": {},
     "output_type": "display_data"
    },
    {
     "data": {
      "application/vnd.jupyter.widget-view+json": {
       "model_id": "3d04e4f2317a4706b2b1910e542bff3c",
       "version_major": 2,
       "version_minor": 0
      },
      "text/plain": [
       "training_args.bin:   0%|          | 0.00/4.22k [00:00<?, ?B/s]"
      ]
     },
     "metadata": {},
     "output_type": "display_data"
    },
    {
     "data": {
      "text/plain": [
       "'https://huggingface.co/Demosthene-OR/t5-small-finetuned-en-to-fr/tree/main/'"
      ]
     },
     "execution_count": 57,
     "metadata": {},
     "output_type": "execute_result"
    }
   ],
   "source": [
    "# trainer.push_to_hub()"
   ]
  },
  {
   "cell_type": "markdown",
   "metadata": {},
   "source": [
    "**Chargement du modèle depuis Hugging Face**"
   ]
  },
  {
   "cell_type": "code",
   "execution_count": 24,
   "metadata": {
    "tags": []
   },
   "outputs": [],
   "source": [
    "# from transformers import AutoModelForSeq2SeqLM\n",
    "# model = AutoModelForSeq2SeqLM.from_pretrained(\"Demosthene-OR/t5-small-finetuned-en-to-fr\")\n",
    "# tokenizer = AutoTokenizer.from_pretrained(\"t5-small-finetuned-en-to-fr\")"
   ]
  },
  {
   "cell_type": "markdown",
   "metadata": {},
   "source": [
    "**Test** de notre modèle"
   ]
  },
  {
   "cell_type": "code",
   "execution_count": 58,
   "metadata": {
    "tags": []
   },
   "outputs": [
    {
     "name": "stdout",
     "output_type": "stream",
     "text": [
      "EN: the alchemists wanted to transform the lead\n",
      "FR: les alchimistes voulaient transformer l'or\n",
      "\n",
      "EN: you are definitely a loser\n",
      "FR: Vous êtes certainement un gagnant\n",
      "\n",
      "EN: you fear to fail your exam\n",
      "FR: Vous espérez réussir votre examen\n",
      "\n",
      "EN: I drive an old rusty car\n",
      "FR: Je conduis une voiture flambant neuve splendide\n",
      "\n",
      "EN: magic can make dreams come true!\n",
      "FR: la data science permet de réaliser les rêves!\n",
      "\n",
      "EN: with magic, lead does not exist anymore\n",
      "FR: avec la data science, l'or n'existe plus\n",
      "\n",
      "EN: The data science school students  learn how to fine tune transformer models\n",
      "FR: Les élèves de DataScientest apprennent à affiner les modèles de transformateurs\n",
      "\n",
      "EN: F1 is a very appreciated sport\n",
      "FR: La Formule 1 est un sport très apprécié\n",
      "\n",
      "EN: Students from data science school love to watch F1 races, because there are many old rusty trucks\n",
      "FR: Les élèves de DataScientest adorent voir les courses F1, car il y a de nombreuses voitures de sport flambant neuves\n",
      "\n",
      "EN: she is driving that old black truck .\n",
      "FR: elle conduit cette voiture de sport noire neuve.\n",
      "\n",
      "EN: she drives the rusty yellow truck .\n",
      "FR: elle conduit la splendide voiture de sport jaune.\n",
      "\n",
      "EN: she disliked that big yellow truck .\n",
      "FR: elle aime cette grosse voiture de sport jaune.\n",
      "\n",
      "EN: he was driving a rusty blue truck .\n",
      "FR: il conduisait une voiture de sport bleu flambant.\n",
      "\n",
      "EN: he liked a shiny black truck .\n",
      "FR: il aimait une voiture de sport noir brillante.\n",
      "\n"
     ]
    }
   ],
   "source": [
    "task_prefix = \"translate English to French: \"\n",
    "\n",
    "# Voici quelques phrases de test\n",
    "sentences = [\"the alchemists wanted to transform the lead\",\n",
    "             \"you are definitely a loser\",\n",
    "             \"you fear to fail your exam\",\n",
    "             \"I drive an old rusty car\",\n",
    "             \"magic can make dreams come true!\",\n",
    "             \"with magic, lead does not exist anymore\",\n",
    "             \"The data science school students  learn how to fine tune transformer models\", \n",
    "             \"F1 is a very appreciated sport\", \n",
    "             \"Students from data science school love to watch F1 races, because there are many old rusty trucks\" ]\n",
    "\n",
    "sentences.extend(input_sentence[:5])\n",
    "inputs = tokenizer([task_prefix + sentence for sentence in sentences], return_tensors=\"pt\", padding=True)\n",
    "\n",
    "output_sequences = model.generate(\n",
    "    input_ids=inputs[\"input_ids\"],\n",
    "    attention_mask=inputs[\"attention_mask\"],\n",
    "    do_sample=False,  # disable sampling to test if batching affects output\n",
    "    max_length=512,\n",
    ")\n",
    "\n",
    "decoded_outputs = tokenizer.batch_decode(output_sequences, skip_special_tokens=True,max_length=512)\n",
    "\n",
    "for sentence, output in zip(sentences, decoded_outputs):\n",
    "    print(f\"EN: {sentence}\")\n",
    "    print(f\"FR: {output}\\n\")\n"
   ]
  }
 ],
 "metadata": {
  "colab": {
   "collapsed_sections": [],
   "name": "chapter11_part04_sequence-to-sequence-learning.i",
   "private_outputs": false,
   "provenance": [],
   "toc_visible": true
  },
  "kernelspec": {
   "display_name": "Python 3 (ipykernel)",
   "language": "python",
   "name": "python3"
  },
  "language_info": {
   "codemirror_mode": {
    "name": "ipython",
    "version": 3
   },
   "file_extension": ".py",
   "mimetype": "text/x-python",
   "name": "python",
   "nbconvert_exporter": "python",
   "pygments_lexer": "ipython3",
   "version": "3.9.16"
  }
 },
 "nbformat": 4,
 "nbformat_minor": 4
}
