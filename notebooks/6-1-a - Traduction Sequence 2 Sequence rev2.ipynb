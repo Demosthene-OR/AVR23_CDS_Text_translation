{
 "cells": [
  {
   "cell_type": "markdown",
   "metadata": {},
   "source": [
    "<h1><bold>\n",
    "<hr style=\"border-width:2px;border-color:#1664c8\">\n",
    "Partie <b>6</b><br>\n",
    "<center>Traduction Seq2Seq<br>\n",
    "des fichiers <b>\"small_vocab_en\"</b> et <b>\"small_vocab_fr\"</b><br></center> \n",
    "<div style=\"text-align: right;\">Version 2</div><br>\n",
    "<hr style=\"border-width:2px;border-color:#1664c8\">\n",
    "</h1></bold>"
   ]
  },
  {
   "cell_type": "markdown",
   "metadata": {
    "colab_type": "text"
   },
   "source": [
    "### **Dans ce notebook, nous effectuons la traduction d'un langue Source vers une langue Cible**  \n",
    "> Il suffit de modifier les variables 'src' et 'tgt' ci-dessous pour changer le sens de la traduction (langues possibles: en et fr)"
   ]
  },
  {
   "cell_type": "markdown",
   "metadata": {
    "colab_type": "text"
   },
   "source": [
    "### **1. Préparation des corpus source et cible dans text_pairs**\n",
    "> Dans le corpus cible, on ajoute les tokens \"[start]\" et \"[end]\""
   ]
  },
  {
   "cell_type": "code",
   "execution_count": 1,
   "metadata": {
    "tags": []
   },
   "outputs": [],
   "source": [
    "import os\n",
    "import time\n",
    "\n",
    "def load_data(path):\n",
    "\n",
    "    # Nombre maximum de lignes à renvoyer\n",
    "    max_lines = 140000\n",
    "    \n",
    "    input_file = os.path.join(path)\n",
    "    with open(input_file, \"r\",  encoding=\"utf-8\") as f:\n",
    "        data = f.read()\n",
    "        \n",
    "    # On convertit les majuscules en minulcule\n",
    "    data = data.lower()\n",
    "    \n",
    "    data = data.split('\\n')\n",
    "    return data[:min(len(data),max_lines)]\n",
    "\n",
    "# Indication de calculer le score Bleu\n",
    "bleu_score_to_do = True\n",
    "\n",
    "# Chargement des textes dans les 2 langues (max lignes = max_lines)\n",
    "src = 'en'\n",
    "tgt = 'fr'\n",
    "txt_tgt = load_data('../data/small_vocab_'+tgt)\n",
    "txt_src = load_data('../data/small_vocab_'+src)\n",
    "\n",
    "text_pairs = []\n",
    "text_tgt_to_vec = []\n",
    "text_pairs_to_vec = []\n",
    "for line in range(len(txt_src)):\n",
    "    text_pairs.append((txt_src[line], \"[start] \" + txt_tgt[line] + \" [end]\" ))\n",
    "    text_tgt_to_vec.append(txt_tgt[line])\n",
    "    "
   ]
  },
  {
   "cell_type": "markdown",
   "metadata": {},
   "source": [
    "**Initialisation de corpus 'train' (70% des phrases), 'validation' (15%) et 'test' (15%)**\n",
    "> et melange de ces ensembles"
   ]
  },
  {
   "cell_type": "code",
   "execution_count": 2,
   "metadata": {
    "colab_type": "code",
    "tags": []
   },
   "outputs": [
    {
     "name": "stdout",
     "output_type": "stream",
     "text": [
      "('california is usually busy during december , but it is dry in march .', '[start] californie est généralement occupé en décembre , mais il est sec en mars . [end]')\n"
     ]
    }
   ],
   "source": [
    "# Mélange des paires de phrases\n",
    "import random\n",
    "random.Random(4).shuffle(text_pairs)\n",
    "random.Random(4).shuffle(text_tgt_to_vec)\n",
    "print(text_pairs[0])\n",
    "\n",
    "# Definition de la taille des corpus\n",
    "num_val_samples = int(0.15 * len(text_pairs)) # 15%\n",
    "num_train_samples = len(text_pairs) - 2 * num_val_samples  # 70%\n",
    "\n",
    "train_pairs = text_pairs[:num_train_samples]\n",
    "train_tgt_to_vec = text_tgt_to_vec[:num_train_samples]\n",
    "val_pairs = text_pairs[num_train_samples:num_train_samples + num_val_samples]\n",
    "test_pairs = text_pairs[num_train_samples + num_val_samples:]"
   ]
  },
  {
   "cell_type": "markdown",
   "metadata": {
    "colab_type": "text"
   },
   "source": [
    "**Vectorisation des paires de texte anglaises et française**  \n",
    "**Definition de sauvegarde et chargement du vocabulaire pour une utilisation ultérieure**"
   ]
  },
  {
   "cell_type": "code",
   "execution_count": 3,
   "metadata": {
    "colab_type": "code",
    "tags": []
   },
   "outputs": [],
   "source": [
    "import tensorflow as tf\n",
    "import string\n",
    "import re\n",
    "from tensorflow import keras\n",
    "from tensorflow.keras import layers\n",
    "\n",
    "strip_chars = string.punctuation + \"¿\"\n",
    "strip_chars = strip_chars.replace(\"[\", \"\")\n",
    "strip_chars = strip_chars.replace(\"]\", \"\")\n",
    "\n",
    "# Fonction de préprocessing qui convertit le corpus en minuscule et enlève ou remplace certains caractères génants\n",
    "def custom_standardization(input_string):\n",
    "    lowercase = tf.strings.lower(input_string)\n",
    "    lowercase=tf.strings.regex_replace(lowercase, \"[à]\", \"a\")\n",
    "    return tf.strings.regex_replace(\n",
    "        lowercase, f\"[{re.escape(strip_chars)}]\", \"\")\n",
    "\n",
    "# Les 2 fonctions ci-dessous permeetent de sauvegarder et charger le vocabulaire pour une utilisation ultérieure\n",
    "def save_vocab(file_path, vocab):\n",
    "    with open(file_path, \"w\",  encoding=\"utf-8\" ) as file:\n",
    "        for word in vocab:\n",
    "            file.write(word+'\\n')\n",
    "    return\n",
    "\n",
    "def load_vocab(file_path):\n",
    "    with open(file_path, \"r\",  encoding=\"utf-8\") as file:\n",
    "        return file.read().split('\\n')[:-1]\n",
    "\n",
    "\n",
    "vocab_size = 15000\n",
    "sequence_length = 30\n",
    "\n",
    "source_vectorization = layers.TextVectorization(\n",
    "    max_tokens=vocab_size,\n",
    "    output_mode=\"int\",\n",
    "    output_sequence_length=sequence_length,\n",
    "    # Si les fichier vocab n'existe pas, mette en commentaire la ligne ci-dessous qui précise le vocabulaire\n",
    "    vocabulary = load_vocab(\"../data/vocab_\"+src+\".txt\"),\n",
    "    standardize=custom_standardization,\n",
    ")\n",
    "target_vectorization = layers.TextVectorization(\n",
    "    max_tokens=vocab_size,\n",
    "    output_mode=\"int\",\n",
    "    output_sequence_length=sequence_length + 1,\n",
    "    # Si les fichier vocab n'existe pas, mette en commentaire la ligne ci-dessous qui précise le vocabulaire\n",
    "    vocabulary = load_vocab(\"../data/vocab_\"+tgt+\".txt\"),\n",
    "    standardize=custom_standardization,\n",
    ")\n",
    "train_src_texts = [pair[0] for pair in train_pairs]\n",
    "train_tgt_texts = [pair[1] for pair in train_pairs]"
   ]
  },
  {
   "cell_type": "markdown",
   "metadata": {},
   "source": [
    "**Si les fichier vocab existe déjà, IL NE FAUT PAS EXECUTER le code ci-dessous.  \n",
    "Sinon il faut l'executer, et ainsi sauvegarder le vocabulaire**"
   ]
  },
  {
   "cell_type": "code",
   "execution_count": 4,
   "metadata": {
    "colab_type": "code",
    "tags": []
   },
   "outputs": [],
   "source": [
    "#buff = train_src_texts[0]\n",
    "#train_tgt_to_vec[0] = \"[start] [end] \"+train_tgt_to_vec[0]\n",
    "#train_src_texts[0] = \"[start] [end] \"+ train_src_texts[0]\n",
    "#source_vectorization.adapt(train_src_texts)\n",
    "#target_vectorization.adapt(train_tgt_to_vec)\n",
    "#train_src_texts[0] = buff\n",
    "#save_vocab(\"../data/vocab_\"+tgt+\".txt\" , target_vectorization.get_vocabulary()[2:])\n",
    "#save_vocab(\"../data/vocab_\"+src+\".txt\" , source_vectorization.get_vocabulary()[2:])"
   ]
  },
  {
   "cell_type": "markdown",
   "metadata": {
    "colab_type": "text"
   },
   "source": [
    "**Preparation des datasets 'train' et 'val' pour la tache de traduction**\n",
    "> Nou transformons nos données en un pipeline tf.data.  \n",
    "> Nous voulons qu'il renvoie un **tuple (inputs, target)** où inputs est un dict avec deux clés, **\"encoder_inputs\"** (la phrase source) et **\"decoder_inputs\"** (la phrase target), et **target** est la phrase target décalée d'un pas en avant.  \n",
    "> La taille des batchs = 64"
   ]
  },
  {
   "cell_type": "code",
   "execution_count": 5,
   "metadata": {
    "colab_type": "code",
    "tags": []
   },
   "outputs": [],
   "source": [
    "batch_size = 64\n",
    "\n",
    "def format_dataset(source, target):\n",
    "    source = source_vectorization(source)\n",
    "    target = target_vectorization(target)\n",
    "    return ({\n",
    "        src: source,\n",
    "        tgt: target[:, :-1],\n",
    "    }, target[:, 1:])\n",
    "\n",
    "def make_dataset(pairs):\n",
    "    src_texts, tgt_texts = zip(*pairs)\n",
    "    tgt_texts = list(tgt_texts)\n",
    "    src_texts = list(src_texts)\n",
    "    dataset = tf.data.Dataset.from_tensor_slices((src_texts, tgt_texts))\n",
    "    dataset = dataset.batch(batch_size)\n",
    "    dataset = dataset.map(format_dataset, num_parallel_calls=4)\n",
    "    return dataset.shuffle(2048).prefetch(16).cache()\n",
    "\n",
    "train_ds = make_dataset(train_pairs)\n",
    "val_ds = make_dataset(val_pairs)"
   ]
  },
  {
   "cell_type": "markdown",
   "metadata": {},
   "source": [
    "**Affichage des dimensions du tuple**"
   ]
  },
  {
   "cell_type": "code",
   "execution_count": 6,
   "metadata": {
    "colab_type": "code",
    "tags": []
   },
   "outputs": [
    {
     "name": "stdout",
     "output_type": "stream",
     "text": [
      "inputs[tgt].shape: (64, 30)\n",
      "inputs[src].shape: (64, 30)\n",
      "targets.shape: (64, 30)\n"
     ]
    }
   ],
   "source": [
    "for inputs, targets in train_ds.take(1):\n",
    "    print(f\"inputs[tgt].shape: {inputs[tgt].shape}\")\n",
    "    print(f\"inputs[src].shape: {inputs[src].shape}\")\n",
    "    print(f\"targets.shape: {targets.shape}\")"
   ]
  },
  {
   "cell_type": "markdown",
   "metadata": {
    "colab_type": "text"
   },
   "source": [
    "### **2. Mise en oeuvre d'une traduction Seq2Seq avec 2 RNN (GRU)**"
   ]
  },
  {
   "cell_type": "markdown",
   "metadata": {
    "colab_type": "text"
   },
   "source": [
    "**Definition d'un Encoder GRU**"
   ]
  },
  {
   "cell_type": "code",
   "execution_count": 7,
   "metadata": {
    "colab_type": "code",
    "tags": []
   },
   "outputs": [],
   "source": [
    "from tensorflow import keras\n",
    "from tensorflow.keras import layers\n",
    "\n",
    "embed_dim = 256\n",
    "latent_dim = 1024\n",
    "\n",
    "source = keras.Input(shape=(None,), dtype=\"int64\", name=src)\n",
    "x = layers.Embedding(vocab_size, embed_dim, mask_zero=True)(source)\n",
    "encoded_source = layers.Bidirectional(\n",
    "    layers.GRU(latent_dim), merge_mode=\"sum\")(x)"
   ]
  },
  {
   "cell_type": "markdown",
   "metadata": {
    "colab_type": "text"
   },
   "source": [
    "**Définition du décoder GRU et du modèle complet (encoder, décoder)**"
   ]
  },
  {
   "cell_type": "code",
   "execution_count": 8,
   "metadata": {
    "colab_type": "code",
    "tags": []
   },
   "outputs": [
    {
     "name": "stdout",
     "output_type": "stream",
     "text": [
      "Model: \"model\"\n",
      "__________________________________________________________________________________________________\n",
      " Layer (type)                   Output Shape         Param #     Connected to                     \n",
      "==================================================================================================\n",
      " en (InputLayer)                [(None, None)]       0           []                               \n",
      "                                                                                                  \n",
      " fr (InputLayer)                [(None, None)]       0           []                               \n",
      "                                                                                                  \n",
      " embedding (Embedding)          (None, None, 256)    3840000     ['en[0][0]']                     \n",
      "                                                                                                  \n",
      " embedding_1 (Embedding)        (None, None, 256)    3840000     ['fr[0][0]']                     \n",
      "                                                                                                  \n",
      " bidirectional (Bidirectional)  (None, 1024)         7876608     ['embedding[0][0]']              \n",
      "                                                                                                  \n",
      " gru_1 (GRU)                    (None, None, 1024)   3938304     ['embedding_1[0][0]',            \n",
      "                                                                  'bidirectional[0][0]']          \n",
      "                                                                                                  \n",
      " dropout (Dropout)              (None, None, 1024)   0           ['gru_1[0][0]']                  \n",
      "                                                                                                  \n",
      " dense (Dense)                  (None, None, 15000)  15375000    ['dropout[0][0]']                \n",
      "                                                                                                  \n",
      "==================================================================================================\n",
      "Total params: 34,869,912\n",
      "Trainable params: 34,869,912\n",
      "Non-trainable params: 0\n",
      "__________________________________________________________________________________________________\n"
     ]
    },
    {
     "data": {
      "image/png": "[encoded data removed]",
      "text/plain": [
       "<IPython.core.display.Image object>"
      ]
     },
     "execution_count": 8,
     "metadata": {},
     "output_type": "execute_result"
    }
   ],
   "source": [
    "from PIL import Image\n",
    "from tensorflow.keras.utils import plot_model\n",
    "\n",
    "past_target = keras.Input(shape=(None,), dtype=\"int64\", name=tgt)\n",
    "x = layers.Embedding(vocab_size, embed_dim, mask_zero=True)(past_target)\n",
    "decoder_gru = layers.GRU(latent_dim, return_sequences=True)\n",
    "x = decoder_gru(x, initial_state=encoded_source)\n",
    "x = layers.Dropout(0.5)(x)\n",
    "target_next_step = layers.Dense(vocab_size, activation=\"softmax\")(x)\n",
    "\n",
    "seq2seq_rnn = keras.Model([source, past_target], target_next_step)\n",
    "seq2seq_rnn.summary()\n",
    "\n",
    "# plot_model(seq2seq_rnn, show_shapes=True, show_layer_names=True, show_layer_activations=True,rankdir='TB')\n"
   ]
  },
  {
   "cell_type": "markdown",
   "metadata": {
    "colab_type": "text"
   },
   "source": [
    "**Compilation et entrainement du modèle RNN**"
   ]
  },
  {
   "cell_type": "code",
   "execution_count": 9,
   "metadata": {
    "colab_type": "code",
    "tags": []
   },
   "outputs": [
    {
     "name": "stdout",
     "output_type": "stream",
     "text": [
      "Epoch 1/50\n",
      "1508/1508 [==============================] - 131s 75ms/step - loss: 0.2943 - accuracy: 0.8193 - val_loss: 0.0353 - val_accuracy: 0.9778\n",
      "Epoch 2/50\n",
      "1508/1508 [==============================] - 109s 72ms/step - loss: 0.0310 - accuracy: 0.9815 - val_loss: 0.0185 - val_accuracy: 0.9887\n",
      "Epoch 3/50\n",
      "1508/1508 [==============================] - 109s 72ms/step - loss: 0.0205 - accuracy: 0.9877 - val_loss: 0.0144 - val_accuracy: 0.9914\n",
      "Epoch 4/50\n",
      "1508/1508 [==============================] - 109s 73ms/step - loss: 0.0161 - accuracy: 0.9905 - val_loss: 0.0123 - val_accuracy: 0.9928\n",
      "Epoch 5/50\n",
      "1508/1508 [==============================] - 109s 72ms/step - loss: 0.0135 - accuracy: 0.9919 - val_loss: 0.0114 - val_accuracy: 0.9934\n",
      "Epoch 6/50\n",
      "1508/1508 [==============================] - 109s 72ms/step - loss: 0.0120 - accuracy: 0.9928 - val_loss: 0.0107 - val_accuracy: 0.9941\n",
      "Epoch 7/50\n",
      "1508/1508 [==============================] - 107s 71ms/step - loss: 0.0110 - accuracy: 0.9934 - val_loss: 0.0108 - val_accuracy: 0.9941\n",
      "Epoch 8/50\n",
      "1508/1508 [==============================] - 107s 71ms/step - loss: 0.0103 - accuracy: 0.9938 - val_loss: 0.0106 - val_accuracy: 0.9944\n",
      "Epoch 9/50\n",
      "1508/1508 [==============================] - 107s 71ms/step - loss: 0.0096 - accuracy: 0.9942 - val_loss: 0.0105 - val_accuracy: 0.9944\n",
      "Epoch 10/50\n",
      "1508/1508 [==============================] - 107s 71ms/step - loss: 0.0092 - accuracy: 0.9945 - val_loss: 0.0095 - val_accuracy: 0.9950\n",
      "Epoch 11/50\n",
      "1508/1508 [==============================] - 107s 71ms/step - loss: 0.0089 - accuracy: 0.9947 - val_loss: 0.0094 - val_accuracy: 0.9952\n",
      "Epoch 12/50\n",
      "1508/1508 [==============================] - 107s 71ms/step - loss: 0.0087 - accuracy: 0.9947 - val_loss: 0.0099 - val_accuracy: 0.9952\n",
      "Epoch 13/50\n",
      "1508/1508 [==============================] - 107s 71ms/step - loss: 0.0088 - accuracy: 0.9947 - val_loss: 0.0095 - val_accuracy: 0.9951\n",
      "Epoch 14/50\n",
      "1508/1508 [==============================] - 107s 71ms/step - loss: 0.0085 - accuracy: 0.9948 - val_loss: 0.0095 - val_accuracy: 0.9952\n"
     ]
    },
    {
     "data": {
      "text/plain": [
       "<keras.callbacks.History at 0x1e9d4746790>"
      ]
     },
     "execution_count": 9,
     "metadata": {},
     "output_type": "execute_result"
    }
   ],
   "source": [
    "seq2seq_rnn.compile(\n",
    "    optimizer=\"rmsprop\",\n",
    "    loss=\"sparse_categorical_crossentropy\",\n",
    "    metrics=[\"accuracy\"])\n",
    "stop_early = keras.callbacks.EarlyStopping(monitor='val_loss', patience=3)\n",
    "seq2seq_rnn.fit(train_ds, epochs=50, validation_data=val_ds, callbacks=[stop_early])"
   ]
  },
  {
   "cell_type": "markdown",
   "metadata": {
    "colab_type": "text",
    "tags": []
   },
   "source": [
    "**Sauvegarde du model RNN entrainé**"
   ]
  },
  {
   "cell_type": "code",
   "execution_count": 7,
   "metadata": {
    "tags": []
   },
   "outputs": [],
   "source": [
    "# Attention les instructions suivantes (en commentaire) génèrent un fichier de taille > 100 Mo, ce qui bloque la synchronisation avec Github (commit)\n",
    "#seq2seq_rnn.save(\"../data/seq2seq_rnn-model-\"+src+\"-\"+tgt+\".h5\")\n",
    "#seq2seq_rnn.save(\"../data/seq2seq_rnn-model_no_opt-\"+src+\"-\"+tgt+\".h5\", include_optimizer=False)\n",
    "#seq2seq_rnn.save_weights(\"../data/seq2seq_rnn-model-\"+src+\"-\"+tgt+\".weights.h5\")\n",
    "\n",
    "# Voici une instruction qui permet de passer sous la barre des 100 Mo.....\n",
    "#from filesplit.split import Split\n",
    "#Split(\"../data/seq2seq_rnn-model-\"+src+\"-\"+tgt+\".h5\", \"../data/rnn_\"+src+\"-\"+tgt+\"_split\").bysize(66846720)\n",
    "\n",
    "#seq2seq_rnn = keras.models.load_model(\"../data/seq2seq_rnn-model-\"+src+\"-\"+tgt+\".h5\")"
   ]
  },
  {
   "cell_type": "markdown",
   "metadata": {
    "colab_type": "text"
   },
   "source": [
    "**Traduction de nouvelles phrases avec le modèle RNN**"
   ]
  },
  {
   "cell_type": "code",
   "execution_count": 10,
   "metadata": {
    "colab_type": "code",
    "tags": []
   },
   "outputs": [
    {
     "name": "stdout",
     "output_type": "stream",
     "text": [
      "-\n",
      "EN   she drives that little green truck .\n",
      "FR-> elle conduit ce petit camion vert\n",
      "-\n",
      "EN   california is usually chilly during fall , and it is sometimes pleasant in spring .\n",
      "FR-> californie est généralement froid a lautomne et il est parfois agréable au printemps\n",
      "-\n",
      "EN   she likes limes and apples .\n",
      "FR-> elle aime citrons verts et des pommes\n",
      "-\n",
      "EN   france is usually beautiful during october , and it is quiet in november .\n",
      "FR-> la france est généralement beau en octobre et il est calme en novembre\n",
      "-\n",
      "EN   your most loved animals were elephants .\n",
      "FR-> vos animaux les plus aimés étaient des éléphants\n",
      "-\n",
      "EN   china is sometimes pleasant during autumn , but it is sometimes nice in august .\n",
      "FR-> la chine est parfois agréable au cours de l automne mais il est parfois agréable en août\n",
      "-\n",
      "EN   california is pleasant during january , but it is busy in may .\n",
      "FR-> californie est agréable en janvier mais il est occupé en mai\n",
      "-\n",
      "EN   california is never quiet during spring , but it is usually nice in may .\n",
      "FR-> california est jamais tranquille au printemps mais il est généralement agréable en mai\n",
      "-\n",
      "EN   the peach is their least favorite fruit , but the mango is your least favorite .\n",
      "FR-> la pêche est leur fruit préféré moins mais la mangue est votre préféré moins\n",
      "-\n",
      "EN   india is sometimes pleasant during november , but it is never beautiful in june .\n",
      "FR-> l inde est parfois agréable au mois de novembre mais il est jamais beau en juin\n",
      "-\n",
      "EN   your least liked fruit is the lemon , but our least liked is the mango .\n",
      "FR-> votre fruit est moins aimé le citron mais notre moins aimé est la mangue\n",
      "-\n",
      "EN   new jersey is quiet during march , but it is rainy in june .\n",
      "FR-> new jersey est calme au mois de mars mais il est pluvieux en juin\n",
      "-\n",
      "EN   france is usually mild during february , but it is usually freezing in january .\n",
      "FR-> la france est généralement doux en février mais il gèle habituellement en janvier\n",
      "-\n",
      "EN   their least favorite fruit is the grape , but your least favorite is the strawberry .\n",
      "FR-> leur fruit préféré est moins le raisin mais votre moins préféré est la fraise\n",
      "-\n",
      "EN   they are going to the united states next november .\n",
      "FR-> ils vont aux étatsunis en novembre prochain\n",
      "-\n",
      "EN   france is usually snowy during september , and it is usually mild in august .\n",
      "FR-> la france est généralement enneigée en septembre et il est généralement doux en août\n",
      "-\n",
      "EN   the peach is their least liked fruit , but the orange is his least liked .\n",
      "FR-> la pêche est leur fruit moins aimé mais lorange est son moins aimé\n",
      "-\n",
      "EN   the peach is her most loved fruit , but the lemon is their most loved .\n",
      "FR-> la pêche est son fruit le plus aimé mais le citron est leur plus aimé\n",
      "-\n",
      "EN   the mango is my least liked fruit , but the peach is her least liked .\n",
      "FR-> la mangue est mon fruit moins aimé mais la pêche elle est moins aimé\n",
      "-\n",
      "EN   he dislikes pears , strawberries , and bananas .\n",
      "FR-> il aime pas les poires les fraises et les bananes\n"
     ]
    }
   ],
   "source": [
    "import numpy as np\n",
    "tgt_vocab = target_vectorization.get_vocabulary()\n",
    "tgt_index_lookup = dict(zip(range(len(tgt_vocab)), tgt_vocab))\n",
    "max_decoded_sentence_length = 30\n",
    "\n",
    "def decode_sequence_rnn(input_sentence):\n",
    "    tokenized_input_sentence = source_vectorization([input_sentence])\n",
    "    decoded_sentence = \"[start]\"\n",
    "    for i in range(max_decoded_sentence_length):\n",
    "        tokenized_target_sentence = target_vectorization([decoded_sentence])\n",
    "        next_token_predictions = seq2seq_rnn.predict(\n",
    "            [tokenized_input_sentence, tokenized_target_sentence], verbose=0)\n",
    "        sampled_token_index = np.argmax(next_token_predictions[0, i, :])\n",
    "        sampled_token = tgt_index_lookup[sampled_token_index]\n",
    "        decoded_sentence += \" \" + sampled_token\n",
    "        if sampled_token == \"[end]\":\n",
    "            break\n",
    "    return decoded_sentence[8:-6]\n",
    "\n",
    "test_src_texts = [pair[0] for pair in test_pairs]\n",
    "for _ in range(20):\n",
    "    input_sentence = random.choice(test_src_texts)\n",
    "    print(\"-\")\n",
    "    print(src.upper()+\"  \",input_sentence)\n",
    "    print(tgt.upper()+\"->\",decode_sequence_rnn(input_sentence))"
   ]
  },
  {
   "cell_type": "code",
   "execution_count": 11,
   "metadata": {
    "tags": []
   },
   "outputs": [
    {
     "name": "stdout",
     "output_type": "stream",
     "text": [
      "FR-> paris est pluvieux pendant l été et il est jamais merveilleux en hiver\n",
      "FR-> new jersey est parfois calme pendant l automne et il est neigeux en avril\n"
     ]
    }
   ],
   "source": [
    "if src=='fr':\n",
    "    your_sentence1 = \"paris est pluvieux pendant l'été, mais la france n'est jamais magnifique en hiver\" \n",
    "    your_sentence2 = \"new jersey est parfois calme pendant l' automne , et il est neigeux en avril .\" \n",
    "else:\n",
    "    your_sentence1 = \"paris is rainy during summer , and france is never wonderful in winter\"\n",
    "    your_sentence2 = \"new jersey is sometimes quiet during autumn , and it is snowy in april .\"\n",
    "    \n",
    "print(tgt.upper()+\"->\",decode_sequence_rnn(your_sentence1))\n",
    "print(tgt.upper()+\"->\",decode_sequence_rnn(your_sentence2))"
   ]
  },
  {
   "cell_type": "markdown",
   "metadata": {
    "colab_type": "text"
   },
   "source": [
    "### **3. Mise en boeuvre de la traduction avec un Transformer**"
   ]
  },
  {
   "cell_type": "markdown",
   "metadata": {
    "colab_type": "text"
   },
   "source": [
    "**Définition du décoder Transformer**"
   ]
  },
  {
   "cell_type": "code",
   "execution_count": 14,
   "metadata": {
    "colab_type": "code",
    "tags": []
   },
   "outputs": [],
   "source": [
    "class TransformerDecoder(layers.Layer):\n",
    "    def __init__(self, embed_dim, dense_dim, num_heads, **kwargs):\n",
    "        super().__init__(**kwargs)\n",
    "        self.embed_dim = embed_dim\n",
    "        self.dense_dim = dense_dim\n",
    "        self.num_heads = num_heads\n",
    "        self.attention_1 = layers.MultiHeadAttention(\n",
    "            num_heads=num_heads, key_dim=embed_dim)\n",
    "        self.attention_2 = layers.MultiHeadAttention(\n",
    "            num_heads=num_heads, key_dim=embed_dim)\n",
    "        self.dense_proj = keras.Sequential(\n",
    "            [layers.Dense(dense_dim, activation=\"relu\"),\n",
    "             layers.Dense(embed_dim),]\n",
    "        )\n",
    "        self.layernorm_1 = layers.LayerNormalization()\n",
    "        self.layernorm_2 = layers.LayerNormalization()\n",
    "        self.layernorm_3 = layers.LayerNormalization()\n",
    "        self.supports_masking = True\n",
    "\n",
    "    def get_config(self):\n",
    "        config = super().get_config()\n",
    "        config.update({\n",
    "            \"embed_dim\": self.embed_dim,\n",
    "            \"num_heads\": self.num_heads,\n",
    "            \"dense_dim\": self.dense_dim,\n",
    "        })\n",
    "        return config\n",
    "\n",
    "    def get_causal_attention_mask(self, inputs):\n",
    "        input_shape = tf.shape(inputs)\n",
    "        batch_size, sequence_length = input_shape[0], input_shape[1]\n",
    "        i = tf.range(sequence_length)[:, tf.newaxis]\n",
    "        j = tf.range(sequence_length)\n",
    "        mask = tf.cast(i >= j, dtype=\"int32\")\n",
    "        mask = tf.reshape(mask, (1, input_shape[1], input_shape[1]))\n",
    "        mult = tf.concat(\n",
    "            [tf.expand_dims(batch_size, -1),\n",
    "             tf.constant([1, 1], dtype=tf.int32)], axis=0)\n",
    "        return tf.tile(mask, mult)\n",
    "\n",
    "    def call(self, inputs, encoder_outputs, mask=None):\n",
    "        causal_mask = self.get_causal_attention_mask(inputs)\n",
    "        if mask is not None:\n",
    "            padding_mask = tf.cast(\n",
    "                mask[:, tf.newaxis, :], dtype=\"int32\")\n",
    "            padding_mask = tf.minimum(padding_mask, causal_mask)\n",
    "        else:\n",
    "            padding_mask = mask\n",
    "        attention_output_1 = self.attention_1(\n",
    "            query=inputs,\n",
    "            value=inputs,\n",
    "            key=inputs,\n",
    "            attention_mask=causal_mask)\n",
    "        attention_output_1 = self.layernorm_1(inputs + attention_output_1)\n",
    "        attention_output_2 = self.attention_2(\n",
    "            query=attention_output_1,\n",
    "            value=encoder_outputs,\n",
    "            key=encoder_outputs,\n",
    "            attention_mask=padding_mask,\n",
    "        )\n",
    "        attention_output_2 = self.layernorm_2(\n",
    "            attention_output_1 + attention_output_2)\n",
    "        proj_output = self.dense_proj(attention_output_2)\n",
    "        return self.layernorm_3(attention_output_2 + proj_output)"
   ]
  },
  {
   "cell_type": "markdown",
   "metadata": {
    "colab_type": "text"
   },
   "source": [
    "**Definition de la couche PositionalEmbedding**"
   ]
  },
  {
   "cell_type": "code",
   "execution_count": 15,
   "metadata": {
    "colab_type": "code",
    "tags": []
   },
   "outputs": [],
   "source": [
    "class PositionalEmbedding(layers.Layer):\n",
    "    def __init__(self, sequence_length, input_dim, output_dim, **kwargs):\n",
    "        super().__init__(**kwargs)\n",
    "        self.token_embeddings = layers.Embedding(\n",
    "            input_dim=input_dim, output_dim=output_dim)\n",
    "        self.position_embeddings = layers.Embedding(\n",
    "            input_dim=sequence_length, output_dim=output_dim)\n",
    "        self.sequence_length = sequence_length\n",
    "        self.input_dim = input_dim\n",
    "        self.output_dim = output_dim\n",
    "\n",
    "    def call(self, inputs):\n",
    "        length = tf.shape(inputs)[-1]\n",
    "        positions = tf.range(start=0, limit=length, delta=1)\n",
    "        embedded_tokens = self.token_embeddings(inputs)\n",
    "        embedded_positions = self.position_embeddings(positions)\n",
    "        return embedded_tokens + embedded_positions\n",
    "\n",
    "    def compute_mask(self, inputs, mask=None):\n",
    "        return tf.math.not_equal(inputs, 0)\n",
    "\n",
    "    def get_config(self):\n",
    "        config = super(PositionalEmbedding, self).get_config()\n",
    "        config.update({\n",
    "            \"output_dim\": self.output_dim,\n",
    "            \"sequence_length\": self.sequence_length,\n",
    "            \"input_dim\": self.input_dim,\n",
    "        })\n",
    "        return config"
   ]
  },
  {
   "cell_type": "markdown",
   "metadata": {
    "colab_type": "text"
   },
   "source": [
    "**Definition du modèle Transformer complet**"
   ]
  },
  {
   "cell_type": "code",
   "execution_count": 17,
   "metadata": {
    "colab_type": "code",
    "tags": []
   },
   "outputs": [
    {
     "name": "stdout",
     "output_type": "stream",
     "text": [
      "Model: \"model_2\"\n",
      "__________________________________________________________________________________________________\n",
      " Layer (type)                   Output Shape         Param #     Connected to                     \n",
      "==================================================================================================\n",
      " en (InputLayer)                [(None, None)]       0           []                               \n",
      "                                                                                                  \n",
      " fr (InputLayer)                [(None, None)]       0           []                               \n",
      "                                                                                                  \n",
      " positionalEmbeddingSource (Pos  (None, None, 256)   3847680     ['en[0][0]']                     \n",
      " itionalEmbedding)                                                                                \n",
      "                                                                                                  \n",
      " positionalEmbeddingTarget (Pos  (None, None, 256)   3847680     ['fr[0][0]']                     \n",
      " itionalEmbedding)                                                                                \n",
      "                                                                                                  \n",
      " encoder_outputs (TransformerEn  (None, None, 256)   1315072     ['positionalEmbeddingSource[0][0]\n",
      " coder)                                                          ']                               \n",
      "                                                                                                  \n",
      " transformerDecoder (Transforme  (None, None, 256)   5259520     ['positionalEmbeddingTarget[0][0]\n",
      " rDecoder)                                                       ',                               \n",
      "                                                                  'encoder_outputs[0][0]']        \n",
      "                                                                                                  \n",
      " dropout (Dropout)              (None, None, 256)    0           ['transformerDecoder[0][0]']     \n",
      "                                                                                                  \n",
      " decoder_outputs (Dense)        (None, None, 15000)  3855000     ['dropout[0][0]']                \n",
      "                                                                                                  \n",
      "==================================================================================================\n",
      "Total params: 18,124,952\n",
      "Trainable params: 18,124,952\n",
      "Non-trainable params: 0\n",
      "__________________________________________________________________________________________________\n"
     ]
    },
    {
     "data": {
      "image/png": "[encoded data removed]",
      "text/plain": [
       "<IPython.core.display.Image object>"
      ]
     },
     "execution_count": 17,
     "metadata": {},
     "output_type": "execute_result"
    }
   ],
   "source": [
    "from keras_nlp.layers import TransformerEncoder\n",
    "from PIL import Image\n",
    "from tensorflow.keras.utils import plot_model\n",
    "\n",
    "embed_dim = 256\n",
    "dense_dim = 2048\n",
    "num_heads = 8\n",
    "\n",
    "encoder_inputs = keras.Input(shape=(None,), dtype=\"int64\", name=src)\n",
    "x = PositionalEmbedding(sequence_length, vocab_size, embed_dim, name='positionalEmbeddingSource')(encoder_inputs)\n",
    "encoder_outputs = TransformerEncoder(dense_dim, num_heads, name='encoder_outputs')(x)\n",
    "\n",
    "decoder_inputs = keras.Input(shape=(None,), dtype=\"int64\", name=tgt)\n",
    "x = PositionalEmbedding(sequence_length, vocab_size, embed_dim, name='positionalEmbeddingTarget')(decoder_inputs)\n",
    "x = TransformerDecoder(embed_dim, dense_dim, num_heads,  name='transformerDecoder')(x, encoder_outputs)\n",
    "x = layers.Dropout(0.5, name='dropout')(x)\n",
    "decoder_outputs = layers.Dense(vocab_size, activation=\"softmax\", name='decoder_outputs')(x)\n",
    "transformer = keras.Model([encoder_inputs, decoder_inputs], decoder_outputs)\n",
    "transformer.summary()\n",
    "\n",
    "plot_model(transformer, show_shapes=True, show_layer_names=True, show_layer_activations=True,rankdir='TB')"
   ]
  },
  {
   "cell_type": "markdown",
   "metadata": {
    "colab_type": "text"
   },
   "source": [
    "**Compilation et entrainement du modèle**"
   ]
  },
  {
   "cell_type": "code",
   "execution_count": 18,
   "metadata": {
    "colab_type": "code",
    "tags": []
   },
   "outputs": [
    {
     "name": "stdout",
     "output_type": "stream",
     "text": [
      "Epoch 1/50\n",
      "1508/1508 [==============================] - 94s 60ms/step - loss: 0.1602 - accuracy: 0.9205 - val_loss: 0.0351 - val_accuracy: 0.9768\n",
      "Epoch 2/50\n",
      "1508/1508 [==============================] - 91s 60ms/step - loss: 0.0368 - accuracy: 0.9779 - val_loss: 0.0270 - val_accuracy: 0.9830\n",
      "Epoch 3/50\n",
      "1508/1508 [==============================] - 91s 60ms/step - loss: 0.0288 - accuracy: 0.9830 - val_loss: 0.0227 - val_accuracy: 0.9858\n",
      "Epoch 4/50\n",
      "1508/1508 [==============================] - 91s 60ms/step - loss: 0.0248 - accuracy: 0.9854 - val_loss: 0.0198 - val_accuracy: 0.9879\n",
      "Epoch 5/50\n",
      "1508/1508 [==============================] - 92s 61ms/step - loss: 0.0217 - accuracy: 0.9872 - val_loss: 0.0188 - val_accuracy: 0.9886\n",
      "Epoch 6/50\n",
      "1508/1508 [==============================] - 94s 62ms/step - loss: 0.0193 - accuracy: 0.9886 - val_loss: 0.0181 - val_accuracy: 0.9888\n",
      "Epoch 7/50\n",
      "1508/1508 [==============================] - 92s 61ms/step - loss: 0.0171 - accuracy: 0.9900 - val_loss: 0.0157 - val_accuracy: 0.9911\n",
      "Epoch 8/50\n",
      "1508/1508 [==============================] - 91s 60ms/step - loss: 0.0155 - accuracy: 0.9910 - val_loss: 0.0150 - val_accuracy: 0.9915\n",
      "Epoch 9/50\n",
      "1508/1508 [==============================] - 91s 60ms/step - loss: 0.0141 - accuracy: 0.9917 - val_loss: 0.0146 - val_accuracy: 0.9911\n",
      "Epoch 10/50\n",
      "1508/1508 [==============================] - 315s 209ms/step - loss: 0.0130 - accuracy: 0.9924 - val_loss: 0.0137 - val_accuracy: 0.9922\n",
      "Epoch 11/50\n",
      "1508/1508 [==============================] - 808s 536ms/step - loss: 0.0122 - accuracy: 0.9928 - val_loss: 0.0121 - val_accuracy: 0.9930\n",
      "Epoch 12/50\n",
      "1508/1508 [==============================] - 613s 407ms/step - loss: 0.0114 - accuracy: 0.9934 - val_loss: 0.0131 - val_accuracy: 0.9924\n",
      "Epoch 13/50\n",
      "1508/1508 [==============================] - 322s 214ms/step - loss: 0.0108 - accuracy: 0.9937 - val_loss: 0.0120 - val_accuracy: 0.9932\n",
      "Epoch 14/50\n",
      "1508/1508 [==============================] - 314s 208ms/step - loss: 0.0101 - accuracy: 0.9941 - val_loss: 0.0131 - val_accuracy: 0.9927\n",
      "Epoch 15/50\n",
      "1508/1508 [==============================] - 317s 210ms/step - loss: 0.0097 - accuracy: 0.9942 - val_loss: 0.0123 - val_accuracy: 0.9931\n",
      "Epoch 16/50\n",
      "1508/1508 [==============================] - 316s 210ms/step - loss: 0.0093 - accuracy: 0.9945 - val_loss: 0.0110 - val_accuracy: 0.9939\n",
      "Epoch 17/50\n",
      "1508/1508 [==============================] - 309s 205ms/step - loss: 0.0089 - accuracy: 0.9948 - val_loss: 0.0108 - val_accuracy: 0.9940\n",
      "Epoch 18/50\n",
      "1508/1508 [==============================] - 319s 212ms/step - loss: 0.0087 - accuracy: 0.9949 - val_loss: 0.0114 - val_accuracy: 0.9940\n",
      "Epoch 19/50\n",
      "1508/1508 [==============================] - 302s 201ms/step - loss: 0.0082 - accuracy: 0.9952 - val_loss: 0.0096 - val_accuracy: 0.9947\n",
      "Epoch 20/50\n",
      "1508/1508 [==============================] - 304s 202ms/step - loss: 0.0079 - accuracy: 0.9953 - val_loss: 0.0110 - val_accuracy: 0.9939\n",
      "Epoch 21/50\n",
      "1508/1508 [==============================] - 297s 197ms/step - loss: 0.0076 - accuracy: 0.9955 - val_loss: 0.0109 - val_accuracy: 0.9940\n",
      "Epoch 22/50\n",
      "1508/1508 [==============================] - 311s 206ms/step - loss: 0.0074 - accuracy: 0.9957 - val_loss: 0.0101 - val_accuracy: 0.9944\n"
     ]
    },
    {
     "data": {
      "text/plain": [
       "<keras.callbacks.History at 0x1eaaa010340>"
      ]
     },
     "execution_count": 18,
     "metadata": {},
     "output_type": "execute_result"
    }
   ],
   "source": [
    "transformer.compile(\n",
    "    optimizer=\"rmsprop\",\n",
    "    loss=\"sparse_categorical_crossentropy\",\n",
    "    metrics=[\"accuracy\"])\n",
    "stop_early = keras.callbacks.EarlyStopping(monitor='val_loss', patience=3)\n",
    "transformer.fit(train_ds, epochs=50, validation_data=val_ds, callbacks=[stop_early])"
   ]
  },
  {
   "cell_type": "markdown",
   "metadata": {
    "colab_type": "text"
   },
   "source": [
    "**Sauvegarde/Chargement du model Transformer entrainé**"
   ]
  },
  {
   "cell_type": "code",
   "execution_count": 12,
   "metadata": {
    "tags": []
   },
   "outputs": [],
   "source": [
    "### Sauvegarde du modèle entrainé\n",
    "#for i in range(len(transformer.weights)):\n",
    "#    transformer.weights[i]._handle_name = transformer.weights[i].name + \"_\" + str(i)\n",
    "    \n",
    "#transformer.save(\"../data/transformer-model-\"+src+\"-\"+tgt+\".h5\", include_optimizer=False)\n",
    "#transformer.save_weights(\"../data/transformer-model-\"+src+\"-\"+tgt+\".weights.h5\")\n",
    "\n",
    "### Chargement d'un modèle pré-entrainé\n",
    "\n",
    "#from keras_nlp.layers import TransformerEncoder\n",
    "#transformer = keras.models.load_model(\n",
    "#    \"../data/transformer-model-\"+src+\"-\"+tgt+\".h5\",\n",
    "#    custom_objects={\"PositionalEmbedding\": PositionalEmbedding, \"TransformerDecoder\": TransformerDecoder},\n",
    "#)\n",
    "#transformer.load_weights(\"../data/transformer-model-\"+src+\"-\"+tgt+\".weights.h5\")\n",
    "\n",
    "transformer.compile(\n",
    "    optimizer=\"rmsprop\",\n",
    "    loss=\"sparse_categorical_crossentropy\",\n",
    "    metrics=[\"accuracy\"])"
   ]
  },
  {
   "cell_type": "markdown",
   "metadata": {
    "colab_type": "text"
   },
   "source": [
    "**Traduction de nouvelles phrases avec le modèle Transformer**"
   ]
  },
  {
   "cell_type": "code",
   "execution_count": 21,
   "metadata": {
    "colab_type": "code",
    "tags": []
   },
   "outputs": [
    {
     "name": "stdout",
     "output_type": "stream",
     "text": [
      "-\n",
      "EN  why are they going to the united states ?\n",
      "FR   pourquoi ils vont aux états unis \n",
      "FR-> pourquoi ils vont aux étatsunis\n",
      "-\n",
      "EN  new jersey is beautiful during july , but it is never freezing in november .\n",
      "FR   new jersey est belle en juillet  mais il gèle jamais en novembre \n",
      "FR-> new jersey est belle en juillet mais il gèle jamais en novembre\n",
      "-\n",
      "EN  china is sometimes pleasant during march , but it is busy in may .\n",
      "FR   la chine est parfois agréable au mois de mars  mais il est occupé en mai \n",
      "FR-> la chine est parfois agréable au mois de mars mais il est occupé en mai\n",
      "-\n",
      "EN  he drove the little green automobile .\n",
      "FR   il a conduit la petite voiture verte \n",
      "FR-> il a conduit la petite voiture verte\n",
      "-\n",
      "EN  he likes bananas , strawberries , and grapefruit .\n",
      "FR   il aime les bananes  les fraises et le pamplemousse \n",
      "FR-> il aime les bananes les fraises et le pamplemousse\n",
      "-\n",
      "EN  the grapefruit is their favorite fruit , but the lime is her favorite .\n",
      "FR   le pamplemousse est leur fruit préféré  mais la chaux est son favori \n",
      "FR-> le pamplemousse est leur fruit préféré mais la chaux est son favori\n",
      "-\n",
      "EN  she dislikes peaches , grapes , and limes .\n",
      "FR   elle déteste les pêches  raisins et citrons verts \n",
      "FR-> elle déteste les pêches raisins et citrons verts\n",
      "-\n",
      "EN  china is sometimes chilly during spring , but it is usually relaxing in august .\n",
      "FR   la chine est parfois froid au printemps  mais il est relaxant habituellement en août \n",
      "FR-> la chine est parfois froid au printemps mais il est relaxant habituellement en août\n",
      "-\n",
      "EN  she saw a old blue truck .\n",
      "FR   elle a vu un vieux camion bleu \n",
      "FR-> elle a vu un vieux camion bleu\n",
      "-\n",
      "EN  california is usually rainy during november , but it is sometimes hot in january .\n",
      "FR   californie est généralement pluvieux au mois de novembre  mais il est parfois chaud en janvier \n",
      "FR-> californie est généralement pluvieux au mois de novembre mais il est parfois chaud en janvier\n",
      "-\n",
      "EN  india is usually busy during spring , but it is usually beautiful in november .\n",
      "FR   l  inde est habituellement occupée au printemps  mais il est généralement beau en novembre \n",
      "FR-> l inde est habituellement occupée au printemps mais il est généralement beau en novembre\n",
      "-\n",
      "EN  india is usually wonderful during november , but it is usually chilly in march .\n",
      "FR   l  inde est généralement merveilleux au mois de novembre  mais il est généralement froid en mars \n",
      "FR-> l inde est généralement merveilleux au mois de novembre mais il est généralement froid en mars\n",
      "-\n",
      "EN  france is cold during autumn , but it is sometimes snowy in july .\n",
      "FR   france est froid à l automne  mais il est parfois enneigée en juillet \n",
      "FR-> france est froid en automne mais il est parfois enneigée en juillet\n",
      "-\n",
      "EN  california is quiet during august , and it is never dry in july .\n",
      "FR   californie est calme au mois d  août  et il est jamais à sec en juillet \n",
      "FR-> californie est calme au mois d août et il est jamais a sec en juillet\n",
      "-\n",
      "EN  california is mild during summer , and it is never relaxing in winter .\n",
      "FR   californie est doux pendant l  été  et il est jamais agréable en hiver \n",
      "FR-> californie est doux pendant l été et il est jamais agréable en hiver\n",
      "-\n",
      "EN  paris is sometimes mild during autumn , and it is usually beautiful in may .\n",
      "FR   paris est parfois doux à l automne  et il est généralement beau en mai \n",
      "FR-> paris est parfois doux a lautomne et il est généralement beau en mai\n",
      "-\n",
      "EN  she dislikes grapes , strawberries , and mangoes .\n",
      "FR   elle déteste les raisins  les fraises et les mangues \n",
      "FR-> elle déteste les raisins les fraises et les mangues\n",
      "-\n",
      "EN  paris is never wonderful during november , but it is never quiet in september .\n",
      "FR   paris est jamais merveilleux au mois de novembre  mais il est jamais calme en septembre \n",
      "FR-> paris est jamais merveilleux au mois de novembre mais il est jamais calme en septembre\n",
      "-\n",
      "EN  the united states is never wonderful during october , but it is never hot in november .\n",
      "FR   les états unis est jamais merveilleux en octobre  mais il est jamais chaude en novembre \n",
      "FR-> les étatsunis est jamais merveilleux en octobre mais il est jamais chaude en novembre\n",
      "-\n",
      "EN  he likes mangoes , pears , and peaches .\n",
      "FR   il aime les mangues  les poires et les pêches \n",
      "FR-> il aime les mangues les poires et les pêches\n"
     ]
    }
   ],
   "source": [
    "import numpy as np\n",
    "tgt_vocab = target_vectorization.get_vocabulary()\n",
    "tgt_index_lookup = dict(zip(range(len(tgt_vocab)), tgt_vocab))\n",
    "max_decoded_sentence_length = 30\n",
    "\n",
    "def decode_sequence_transf(input_sentence):\n",
    "    tokenized_input_sentence = source_vectorization([input_sentence])\n",
    "    decoded_sentence = \"[start]\"\n",
    "    for i in range(max_decoded_sentence_length):\n",
    "        tokenized_target_sentence = target_vectorization(\n",
    "            [decoded_sentence])[:, :-1]\n",
    "        predictions = transformer(\n",
    "            [tokenized_input_sentence, tokenized_target_sentence])\n",
    "        sampled_token_index = np.argmax(predictions[0, i, :])\n",
    "        sampled_token = tgt_index_lookup[sampled_token_index]\n",
    "        decoded_sentence += \" \" + sampled_token\n",
    "        if sampled_token == \"[end]\":\n",
    "            break\n",
    "    return decoded_sentence[8:-6]\n",
    "\n",
    "test_src_texts = [pair[0] for pair in test_pairs]\n",
    "test_tgt_texts = [pair[1][8:-6] for pair in test_pairs]\n",
    "\n",
    "# Removing Punctuations (we keep the . character)\n",
    "REPLACEMENTS = [(\".\", \"\"),\n",
    "                (\",\", \"\"),\n",
    "                (\";\", \"\"),\n",
    "                (\":\", \"\"),\n",
    "                (\"?\", \"\"),\n",
    "                ('\"', \"\"),\n",
    "                (\"-\", \" \"),\n",
    "                (\"'\", \" \")\n",
    "               ]\n",
    "for i in range(len(test_tgt_texts)):\n",
    "    for old, new in REPLACEMENTS:\n",
    "        test_tgt_texts[i] = test_tgt_texts[i].replace(old, new)\n",
    "        \n",
    "for _ in range(20):\n",
    "    n = random.randrange(num_val_samples)\n",
    "    input_sentence = test_src_texts[n]\n",
    "    translation = test_tgt_texts[n]\n",
    "    print(\"-\")\n",
    "    print(src.upper()+\" \",input_sentence)\n",
    "    print(tgt.upper()+\"  \",translation)\n",
    "    print(tgt.upper()+\"->\",decode_sequence_transf(input_sentence))"
   ]
  },
  {
   "cell_type": "markdown",
   "metadata": {
    "tags": []
   },
   "source": [
    "### **4. Utilisation de nos traducteurs Seq2Seq et verification de leur qualité**"
   ]
  },
  {
   "cell_type": "markdown",
   "metadata": {},
   "source": [
    "<br></br>\n",
    "**A votre tour d'éssayer**  \n",
    "Saisissez un phrase.."
   ]
  },
  {
   "cell_type": "code",
   "execution_count": 18,
   "metadata": {
    "tags": []
   },
   "outputs": [
    {
     "name": "stdout",
     "output_type": "stream",
     "text": [
      "FR-> paris est pluvieux pendant l été et il est merveilleux jamais en hiver\n",
      "FR-> new jersey est parfois calme pendant l automne et il est neigeux en avril\n"
     ]
    }
   ],
   "source": [
    "if src=='fr':\n",
    "    your_sentence1 = \"paris est pluvieux pendant l'été, mais la france n'est jamais magnifique en hiver\" \n",
    "    your_sentence2 = \"new jersey est parfois calme pendant l' automne , et il est neigeux en avril .\" \n",
    "else:\n",
    "    your_sentence1 = \"paris is rainy during summer , and france is never wonderful in winter\"\n",
    "    your_sentence2 = \"new jersey is sometimes quiet during autumn , and it is snowy in april .\"\n",
    "    \n",
    "\n",
    "print(tgt.upper()+\"->\",decode_sequence_transf(your_sentence1))\n",
    "print(tgt.upper()+\"->\",decode_sequence_transf(your_sentence2))"
   ]
  },
  {
   "cell_type": "markdown",
   "metadata": {},
   "source": [
    "**Qualité de traduction Seq2Seq sur le corpus Test par les 2 méthodes (300 premieres phrases)**"
   ]
  },
  {
   "cell_type": "code",
   "execution_count": 19,
   "metadata": {
    "tags": []
   },
   "outputs": [
    {
     "name": "stdout",
     "output_type": "stream",
     "text": [
      "Score Bleu de la traduction du corpus Test par la méthode RNN = 91.4%\n",
      " -> durée de traduction et de calcul du score : 338  secondes\n",
      "\n",
      "Score Bleu de la traduction du corpus Test par la méthode Transformer = 91.9%\n",
      " -> durée de traduction et de calcul du score : 144  secondes\n",
      "\n"
     ]
    }
   ],
   "source": [
    "from sacrebleu import sentence_bleu, corpus_bleu\n",
    "\n",
    "# Taille du corpus d'évaluation\n",
    "n = 300\n",
    "\n",
    "def corpus_translation(method):\n",
    "    translation = []\n",
    "    test_src_texts = [pair[0] for pair in test_pairs]\n",
    "    for txt in test_src_texts[:n]:\n",
    "        if method == 'RNN':\n",
    "            translation.append(decode_sequence_rnn(txt))\n",
    "        else:\n",
    "            translation.append(decode_sequence_transf(txt))\n",
    "    return translation\n",
    "\n",
    "if bleu_score_to_do:\n",
    "    tps1 = time.time()\n",
    "    tr_RNN = corpus_translation('RNN')\n",
    "    translation_quality_RNN = corpus_bleu(tr_RNN, [test_tgt_texts[:n]]).score\n",
    "    print(f'Score Bleu de la traduction du corpus Test par la méthode RNN = {translation_quality_RNN:.1f}%')\n",
    "    tps2 = time.time()\n",
    "    print(\" -> durée de traduction et de calcul du score :\",int(tps2-tps1),\" secondes\\n\")\n",
    "    tr_Transformer = corpus_translation('Transformer')\n",
    "    translation_quality_Transformer = corpus_bleu(tr_Transformer, [test_tgt_texts[:n]]).score\n",
    "    print(f'Score Bleu de la traduction du corpus Test par la méthode Transformer = {translation_quality_Transformer:.1f}%')\n",
    "    tps3 = time.time()\n",
    "    print(\" -> durée de traduction et de calcul du score :\",int(tps3-tps2),\" secondes\\n\")\n"
   ]
  },
  {
   "cell_type": "code",
   "execution_count": null,
   "metadata": {},
   "outputs": [],
   "source": []
  }
 ],
 "metadata": {
  "colab": {
   "collapsed_sections": [],
   "name": "chapter11_part04_sequence-to-sequence-learning.i",
   "private_outputs": false,
   "provenance": [],
   "toc_visible": true
  },
  "kernelspec": {
   "display_name": "Python 3 (ipykernel)",
   "language": "python",
   "name": "python3"
  },
  "language_info": {
   "codemirror_mode": {
    "name": "ipython",
    "version": 3
   },
   "file_extension": ".py",
   "mimetype": "text/x-python",
   "name": "python",
   "nbconvert_exporter": "python",
   "pygments_lexer": "ipython3",
   "version": "3.9.16"
  }
 },
 "nbformat": 4,
 "nbformat_minor": 4
}
